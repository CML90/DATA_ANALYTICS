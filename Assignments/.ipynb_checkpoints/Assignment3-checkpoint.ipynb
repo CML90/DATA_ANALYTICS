{
 "cells": [
  {
   "cell_type": "code",
   "execution_count": null,
   "id": "2f43262e",
   "metadata": {},
   "outputs": [],
   "source": [
    "Caitlin Lindsay"
   ]
  },
  {
   "cell_type": "code",
   "execution_count": 39,
   "id": "b9860d0b",
   "metadata": {
    "scrolled": false
   },
   "outputs": [
    {
     "name": "stdout",
     "output_type": "stream",
     "text": [
      "Requirement already satisfied: kmodes in c:\\users\\cait\\anaconda3\\lib\\site-packages (0.12.2)\n",
      "Requirement already satisfied: numpy>=1.10.4 in c:\\users\\cait\\anaconda3\\lib\\site-packages (from kmodes) (1.26.4)\n",
      "Requirement already satisfied: scikit-learn>=0.22.0 in c:\\users\\cait\\anaconda3\\lib\\site-packages (from kmodes) (1.4.2)\n",
      "Requirement already satisfied: scipy>=0.13.3 in c:\\users\\cait\\anaconda3\\lib\\site-packages (from kmodes) (1.13.0)\n",
      "Requirement already satisfied: joblib>=0.11 in c:\\users\\cait\\anaconda3\\lib\\site-packages (from kmodes) (1.4.0)\n",
      "Requirement already satisfied: threadpoolctl>=2.0.0 in c:\\users\\cait\\anaconda3\\lib\\site-packages (from scikit-learn>=0.22.0->kmodes) (2.2.0)\n",
      "Requirement already satisfied: ucimlrepo in c:\\users\\cait\\anaconda3\\lib\\site-packages (0.0.6)\n",
      "{'uci_id': 91, 'name': 'Soybean (Small)', 'repository_url': 'https://archive.ics.uci.edu/dataset/91/soybean+small', 'data_url': 'https://archive.ics.uci.edu/static/public/91/data.csv', 'abstract': \"Michalski's famous soybean disease database\", 'area': 'Biology', 'tasks': ['Classification'], 'characteristics': ['Multivariate'], 'num_instances': 47, 'num_features': 35, 'feature_types': ['Categorical'], 'demographics': [], 'target_col': ['class'], 'index_col': None, 'has_missing_values': 'no', 'missing_values_symbol': None, 'year_of_dataset_creation': 1980, 'last_updated': 'Mon Feb 26 2024', 'dataset_doi': '10.24432/C5DS3P', 'creators': ['R. Michalski'], 'intro_paper': None, 'additional_info': {'summary': 'A small subset of the original soybean database.  See the reference for Fisher and Schlimmer in soybean-large.names for more information.\\r\\n    \\r\\nSteven Souders wrote:\\r\\n\\r\\n    > Figure 15 in the Michalski and Stepp paper (PAMI-82) says that the\\r\\n    > discriminant values for the attribute CONDITION OF FRUIT PODS for the\\r\\n    > classes Rhizoctonia Root Rot and Phytophthora Rot are \"few or none\"\\r\\n    > and \"irrelevant\" respectively.  However, in the SOYBEAN-SMALL dataset\\r\\n    > I got from UCI, the value for this attribute is \"dna\" (does not apply)\\r\\n    > for both classes.  I show the actual data below for cases D3\\r\\n    > (Rhizoctonia Root Rot) and D4 (Phytophthora Rot).  According to the\\r\\n    > attribute names given in soybean-large.names, FRUIT-PODS is attribute\\r\\n    > #28.  If you look at column 28 in the data below (marked with arrows)\\r\\n    > you\\'ll notice that all cases of D3 and D4 have the same value.  Thus,\\r\\n    > the SOYBEAN-SMALL dataset from UCI could NOT have produced the results\\r\\n    > in the Michalski and Stepp paper.\\r\\n\\r\\nI do not have that paper, but have found what is probably a later variation of that figure in Stepp\\'s dissertation, which lists the value \"normal\" for the first 2 classes and \"irrelevant\" for the latter 2 classes.  I believe that \"irrelevant\" is used here as a synonym for \"not-applicable\", \"dna\", and \"does-not-apply\".  I believe that there is a mis-print in the figure he read in their PAMI-83 article.\\r\\n \\r\\nI have checked over each attribute value in this database.  It corresponds exactly with the copies listed in both Stepp\\'s and Fisher\\'s dissertations.', 'purpose': None, 'funded_by': None, 'instances_represent': None, 'recommended_data_splits': None, 'sensitive_data': None, 'preprocessing_description': None, 'variable_info': '    1. date:\\t\\tapril,may,june,july,august,september,october,?.\\r\\n    2. plant-stand:\\tnormal,lt-normal,?.\\r\\n    3. precip:\\t\\tlt-norm,norm,gt-norm,?.\\r\\n    4. temp:\\t\\tlt-norm,norm,gt-norm,?.\\r\\n    5. hail:\\t\\tyes,no,?.\\r\\n    6. crop-hist:\\tdiff-lst-year,same-lst-yr,same-lst-two-yrs,\\r\\n                        same-lst-sev-yrs,?.\\r\\n    7. area-damaged:\\tscattered,low-areas,upper-areas,whole-field,?.\\r\\n    8. severity:\\tminor,pot-severe,severe,?.\\r\\n    9. seed-tmt:\\tnone,fungicide,other,?.\\r\\n   10. germination:\\t90-100%,80-89%,lt-80%,?.\\r\\n   11. plant-growth:\\tnorm,abnorm,?.\\r\\n   12. leaves:\\t\\tnorm,abnorm.\\r\\n   13. leafspots-halo:\\tabsent,yellow-halos,no-yellow-halos,?.\\r\\n   14. leafspots-marg:\\tw-s-marg,no-w-s-marg,dna,?.\\r\\n   15. leafspot-size:\\tlt-1/8,gt-1/8,dna,?.\\r\\n   16. leaf-shread:\\tabsent,present,?.\\r\\n   17. leaf-malf:\\tabsent,present,?.\\r\\n   18. leaf-mild:\\tabsent,upper-surf,lower-surf,?.\\r\\n   19. stem:\\t\\tnorm,abnorm,?.\\r\\n   20. lodging:    \\tyes,no,?.\\r\\n   21. stem-cankers:\\tabsent,below-soil,above-soil,above-sec-nde,?.\\r\\n   22. canker-lesion:\\tdna,brown,dk-brown-blk,tan,?.\\r\\n   23. fruiting-bodies:\\tabsent,present,?.\\r\\n   24. external decay:\\tabsent,firm-and-dry,watery,?.\\r\\n   25. mycelium:\\tabsent,present,?.\\r\\n   26. int-discolor:\\tnone,brown,black,?.\\r\\n   27. sclerotia:\\tabsent,present,?.\\r\\n   28. fruit-pods:\\tnorm,diseased,few-present,dna,?.\\r\\n   29. fruit spots:\\tabsent,colored,brown-w/blk-specks,distort,dna,?.\\r\\n   30. seed:\\t\\tnorm,abnorm,?.\\r\\n   31. mold-growth:\\tabsent,present,?.\\r\\n   32. seed-discolor:\\tabsent,present,?.\\r\\n   33. seed-size:\\tnorm,lt-norm,?.\\r\\n   34. shriveling:\\tabsent,present,?.\\r\\n   35. roots:\\t\\tnorm,rotted,galls-cysts,?.', 'citation': None}}\n",
      "               name     role         type demographic description units  \\\n",
      "0              date  Feature  Categorical        None        None  None   \n",
      "1       plant-stand  Feature  Categorical        None        None  None   \n",
      "2            precip  Feature  Categorical        None        None  None   \n",
      "3              temp  Feature  Categorical        None        None  None   \n",
      "4              hail  Feature  Categorical        None        None  None   \n",
      "5         crop-hist  Feature  Categorical        None        None  None   \n",
      "6      area-damaged  Feature  Categorical        None        None  None   \n",
      "7          severity  Feature  Categorical        None        None  None   \n",
      "8          seed-tmt  Feature  Categorical        None        None  None   \n",
      "9       germination  Feature  Categorical        None        None  None   \n",
      "10     plant-growth  Feature  Categorical        None        None  None   \n",
      "11           leaves  Feature  Categorical        None        None  None   \n",
      "12   leafspots-halo  Feature  Categorical        None        None  None   \n",
      "13   leafspots-marg  Feature  Categorical        None        None  None   \n",
      "14    leafspot-size  Feature  Categorical        None        None  None   \n",
      "15      leaf-shread  Feature  Categorical        None        None  None   \n",
      "16        leaf-malf  Feature  Categorical        None        None  None   \n",
      "17        leaf-mild  Feature  Categorical        None        None  None   \n",
      "18             stem  Feature  Categorical        None        None  None   \n",
      "19          lodging  Feature  Categorical        None        None  None   \n",
      "20     stem-cankers  Feature  Categorical        None        None  None   \n",
      "21    canker-lesion  Feature  Categorical        None        None  None   \n",
      "22  fruiting-bodies  Feature  Categorical        None        None  None   \n",
      "23   external-decay  Feature  Categorical        None        None  None   \n",
      "24         mycelium  Feature  Categorical        None        None  None   \n",
      "25     int-discolor  Feature  Categorical        None        None  None   \n",
      "26        sclerotia  Feature  Categorical        None        None  None   \n",
      "27       fruit-pods  Feature  Categorical        None        None  None   \n",
      "28      fruit-spots  Feature  Categorical        None        None  None   \n",
      "29             seed  Feature  Categorical        None        None  None   \n",
      "30      mold-growth  Feature  Categorical        None        None  None   \n",
      "31    seed-discolor  Feature  Categorical        None        None  None   \n",
      "32        seed-size  Feature  Categorical        None        None  None   \n",
      "33       shriveling  Feature  Categorical        None        None  None   \n",
      "34            roots  Feature  Categorical        None        None  None   \n",
      "35            class   Target  Categorical        None        None  None   \n",
      "\n",
      "   missing_values  \n",
      "0              no  \n",
      "1              no  \n",
      "2              no  \n",
      "3              no  \n",
      "4              no  \n",
      "5              no  \n",
      "6              no  \n",
      "7              no  \n",
      "8              no  \n",
      "9              no  \n",
      "10             no  \n",
      "11             no  \n",
      "12             no  \n",
      "13             no  \n",
      "14             no  \n",
      "15             no  \n",
      "16             no  \n",
      "17             no  \n",
      "18             no  \n",
      "19             no  \n",
      "20             no  \n",
      "21             no  \n",
      "22             no  \n",
      "23             no  \n",
      "24             no  \n",
      "25             no  \n",
      "26             no  \n",
      "27             no  \n",
      "28             no  \n",
      "29             no  \n",
      "30             no  \n",
      "31             no  \n",
      "32             no  \n",
      "33             no  \n",
      "34             no  \n",
      "35             no  \n",
      "Columns present in the dataset: ['date', 'plant-stand', 'precip', 'temp', 'hail', 'crop-hist', 'area-damaged', 'severity', 'seed-tmt', 'germination', 'plant-growth', 'leaves', 'leafspots-halo', 'leafspots-marg', 'leafspot-size', 'leaf-shread', 'leaf-malf', 'leaf-mild', 'stem', 'lodging', 'stem-cankers', 'canker-lesion', 'fruiting-bodies', 'external-decay', 'mycelium', 'int-discolor', 'sclerotia', 'fruit-pods', 'fruit-spots', 'seed', 'mold-growth', 'seed-discolor', 'seed-size', 'shriveling', 'roots']\n"
     ]
    },
    {
     "data": {
      "text/plain": [
       "'#zoo\\nfrom ucimlrepo import fetch_ucirepo \\n  \\n# fetch dataset \\nzoo = fetch_ucirepo(id=111) \\n  \\n# data (as pandas dataframes) \\nX_zoo = zoo.data.features \\ny_zoo = zoo.data.targets \\n  \\n# metadata \\nprint(zoo.metadata) \\n  \\n# variable information \\nprint(zoo.variables) \\n\\n#Heart Disease\\nfrom ucimlrepo import fetch_ucirepo \\n  \\n# fetch dataset \\nheart_disease = fetch_ucirepo(id=45) \\n  \\n# data (as pandas dataframes) \\nX_heart = heart_disease.data.features \\ny_heart = heart_disease.data.targets \\n  \\n# metadata \\nprint(heart_disease.metadata) \\n  \\n# variable information \\nprint(heart_disease.variables) \\n\\n#breast cancer\\nfrom ucimlrepo import fetch_ucirepo \\n  \\n# fetch dataset \\nbreast_cancer_wisconsin_original = fetch_ucirepo(id=15) \\n  \\n# data (as pandas dataframes) \\nX_breast = breast_cancer_wisconsin_original.data.features \\ny_breast = breast_cancer_wisconsin_original.data.targets \\n  \\n# metadata \\nprint(breast_cancer_wisconsin_original.metadata) \\n  \\n# variable information \\nprint(breast_cancer_wisconsin_original.variables) \\n\\n#Dermatology\\nfrom ucimlrepo import fetch_ucirepo \\n  \\n# fetch dataset \\ndermatology = fetch_ucirepo(id=33) \\n  \\n# data (as pandas dataframes) \\nX_derma = dermatology.data.features \\ny_derma = dermatology.data.targets \\n  \\n# metadata \\nprint(dermatology.metadata) \\n  \\n# variable information \\nprint(dermatology.variables) '"
      ]
     },
     "execution_count": 39,
     "metadata": {},
     "output_type": "execute_result"
    }
   ],
   "source": [
    "!pip install kmodes\n",
    "!pip install ucimlrepo\n",
    "\n",
    "soybean_small = fetch_ucirepo(id=91)\n",
    "\n",
    "# Data (as pandas dataframes)\n",
    "X_soy = soybean_small.data.features\n",
    "y_soy = soybean_small.data.targets\n",
    "\n",
    "# Metadata and variable information\n",
    "print(soybean_small.metadata)\n",
    "print(soybean_small.variables)\n",
    "\n",
    "# Print the column names to verify correct labels\n",
    "print(\"Columns present in the dataset:\", X_soy.columns.tolist())\n",
    "\n",
    "\n",
    "'''#zoo\n",
    "from ucimlrepo import fetch_ucirepo \n",
    "  \n",
    "# fetch dataset \n",
    "zoo = fetch_ucirepo(id=111) \n",
    "  \n",
    "# data (as pandas dataframes) \n",
    "X_zoo = zoo.data.features \n",
    "y_zoo = zoo.data.targets \n",
    "  \n",
    "# metadata \n",
    "print(zoo.metadata) \n",
    "  \n",
    "# variable information \n",
    "print(zoo.variables) \n",
    "\n",
    "#Heart Disease\n",
    "from ucimlrepo import fetch_ucirepo \n",
    "  \n",
    "# fetch dataset \n",
    "heart_disease = fetch_ucirepo(id=45) \n",
    "  \n",
    "# data (as pandas dataframes) \n",
    "X_heart = heart_disease.data.features \n",
    "y_heart = heart_disease.data.targets \n",
    "  \n",
    "# metadata \n",
    "print(heart_disease.metadata) \n",
    "  \n",
    "# variable information \n",
    "print(heart_disease.variables) \n",
    "\n",
    "#breast cancer\n",
    "from ucimlrepo import fetch_ucirepo \n",
    "  \n",
    "# fetch dataset \n",
    "breast_cancer_wisconsin_original = fetch_ucirepo(id=15) \n",
    "  \n",
    "# data (as pandas dataframes) \n",
    "X_breast = breast_cancer_wisconsin_original.data.features \n",
    "y_breast = breast_cancer_wisconsin_original.data.targets \n",
    "  \n",
    "# metadata \n",
    "print(breast_cancer_wisconsin_original.metadata) \n",
    "  \n",
    "# variable information \n",
    "print(breast_cancer_wisconsin_original.variables) \n",
    "\n",
    "#Dermatology\n",
    "from ucimlrepo import fetch_ucirepo \n",
    "  \n",
    "# fetch dataset \n",
    "dermatology = fetch_ucirepo(id=33) \n",
    "  \n",
    "# data (as pandas dataframes) \n",
    "X_derma = dermatology.data.features \n",
    "y_derma = dermatology.data.targets \n",
    "  \n",
    "# metadata \n",
    "print(dermatology.metadata) \n",
    "  \n",
    "# variable information \n",
    "print(dermatology.variables) '''\n",
    "\n"
   ]
  },
  {
   "cell_type": "code",
   "execution_count": 40,
   "id": "90609a26",
   "metadata": {},
   "outputs": [],
   "source": [
    "from ucimlrepo import fetch_ucirepo\n",
    "import pandas as pd\n",
    "from sklearn.metrics import pairwise_distances_argmin_min\n",
    "from sklearn.impute import SimpleImputer \n",
    "from sklearn.preprocessing import OrdinalEncoder, OneHotEncoder\n",
    "import plotly.express as px\n",
    "from itertools import combinations\n",
    "import plotly.graph_objects as go\n",
    "import numpy as np \n",
    "from sklearn.metrics import adjusted_rand_score, normalized_mutual_info_score\n",
    "from sklearn.metrics.cluster import fowlkes_mallows_score"
   ]
  },
  {
   "cell_type": "code",
   "execution_count": 53,
   "id": "12f97fa4",
   "metadata": {},
   "outputs": [
    {
     "data": {
      "text/plain": [
       "'#Mushroom\\nfrom ucimlrepo import fetch_ucirepo \\n  \\n# fetch dataset \\nmushroom = fetch_ucirepo(id=73) \\n  \\n# data (as pandas dataframes) \\nX_mush = mushroom.data.features \\ny_mush = mushroom.data.targets \\n  \\n# metadata \\nprint(mushroom.metadata) \\n  \\n# variable information \\nprint(mushroom.variables) \\n\\n#Iris\\nfrom ucimlrepo import fetch_ucirepo \\n  \\n# fetch dataset \\niris = fetch_ucirepo(id=53) \\n  \\n# data (as pandas dataframes) \\nX_iris = iris.data.features \\ny_iris = iris.data.targets \\n  \\n# metadata \\nprint(iris.metadata) \\n  \\n# variable information \\nprint(iris.variables) \\n\\n\\n#Other datasets from NYU was not accessible as the link they provided lead to a error 404 '"
      ]
     },
     "execution_count": 53,
     "metadata": {},
     "output_type": "execute_result"
    }
   ],
   "source": [
    "'''#Mushroom\n",
    "from ucimlrepo import fetch_ucirepo \n",
    "  \n",
    "# fetch dataset \n",
    "mushroom = fetch_ucirepo(id=73) \n",
    "  \n",
    "# data (as pandas dataframes) \n",
    "X_mush = mushroom.data.features \n",
    "y_mush = mushroom.data.targets \n",
    "  \n",
    "# metadata \n",
    "print(mushroom.metadata) \n",
    "  \n",
    "# variable information \n",
    "print(mushroom.variables) \n",
    "\n",
    "#Iris\n",
    "from ucimlrepo import fetch_ucirepo \n",
    "  \n",
    "# fetch dataset \n",
    "iris = fetch_ucirepo(id=53) \n",
    "  \n",
    "# data (as pandas dataframes) \n",
    "X_iris = iris.data.features \n",
    "y_iris = iris.data.targets \n",
    "  \n",
    "# metadata \n",
    "print(iris.metadata) \n",
    "  \n",
    "# variable information \n",
    "print(iris.variables) \n",
    "\n",
    "\n",
    "#Other datasets from NYU was not accessible as the link they provided lead to a error 404 '''"
   ]
  },
  {
   "cell_type": "code",
   "execution_count": 41,
   "id": "5a102935",
   "metadata": {
    "scrolled": true
   },
   "outputs": [
    {
     "name": "stdout",
     "output_type": "stream",
     "text": [
      "Columns present in the dataset:\n",
      "date\n",
      "   class\n",
      "0     D1\n",
      "1     D1\n",
      "2     D1\n",
      "3     D1\n",
      "4     D1\n",
      "5     D1\n",
      "6     D1\n",
      "7     D1\n",
      "8     D1\n",
      "9     D1\n",
      "10    D2\n",
      "11    D2\n",
      "12    D2\n",
      "13    D2\n",
      "14    D2\n",
      "15    D2\n",
      "16    D2\n",
      "17    D2\n",
      "18    D2\n",
      "19    D2\n",
      "20    D3\n",
      "21    D3\n",
      "22    D3\n",
      "23    D3\n",
      "24    D3\n",
      "25    D3\n",
      "26    D3\n",
      "27    D3\n",
      "28    D3\n",
      "29    D3\n",
      "30    D4\n",
      "31    D4\n",
      "32    D4\n",
      "33    D4\n",
      "34    D4\n",
      "35    D4\n",
      "36    D4\n",
      "37    D4\n",
      "38    D4\n",
      "39    D4\n",
      "40    D4\n",
      "41    D4\n",
      "42    D4\n",
      "43    D4\n",
      "44    D4\n",
      "45    D4\n",
      "46    D4\n",
      "plant-stand\n",
      "   class\n",
      "0     D1\n",
      "1     D1\n",
      "2     D1\n",
      "3     D1\n",
      "4     D1\n",
      "5     D1\n",
      "6     D1\n",
      "7     D1\n",
      "8     D1\n",
      "9     D1\n",
      "10    D2\n",
      "11    D2\n",
      "12    D2\n",
      "13    D2\n",
      "14    D2\n",
      "15    D2\n",
      "16    D2\n",
      "17    D2\n",
      "18    D2\n",
      "19    D2\n",
      "20    D3\n",
      "21    D3\n",
      "22    D3\n",
      "23    D3\n",
      "24    D3\n",
      "25    D3\n",
      "26    D3\n",
      "27    D3\n",
      "28    D3\n",
      "29    D3\n",
      "30    D4\n",
      "31    D4\n",
      "32    D4\n",
      "33    D4\n",
      "34    D4\n",
      "35    D4\n",
      "36    D4\n",
      "37    D4\n",
      "38    D4\n",
      "39    D4\n",
      "40    D4\n",
      "41    D4\n",
      "42    D4\n",
      "43    D4\n",
      "44    D4\n",
      "45    D4\n",
      "46    D4\n",
      "precip\n",
      "   class\n",
      "0     D1\n",
      "1     D1\n",
      "2     D1\n",
      "3     D1\n",
      "4     D1\n",
      "5     D1\n",
      "6     D1\n",
      "7     D1\n",
      "8     D1\n",
      "9     D1\n",
      "10    D2\n",
      "11    D2\n",
      "12    D2\n",
      "13    D2\n",
      "14    D2\n",
      "15    D2\n",
      "16    D2\n",
      "17    D2\n",
      "18    D2\n",
      "19    D2\n",
      "20    D3\n",
      "21    D3\n",
      "22    D3\n",
      "23    D3\n",
      "24    D3\n",
      "25    D3\n",
      "26    D3\n",
      "27    D3\n",
      "28    D3\n",
      "29    D3\n",
      "30    D4\n",
      "31    D4\n",
      "32    D4\n",
      "33    D4\n",
      "34    D4\n",
      "35    D4\n",
      "36    D4\n",
      "37    D4\n",
      "38    D4\n",
      "39    D4\n",
      "40    D4\n",
      "41    D4\n",
      "42    D4\n",
      "43    D4\n",
      "44    D4\n",
      "45    D4\n",
      "46    D4\n",
      "temp\n",
      "   class\n",
      "0     D1\n",
      "1     D1\n",
      "2     D1\n",
      "3     D1\n",
      "4     D1\n",
      "5     D1\n",
      "6     D1\n",
      "7     D1\n",
      "8     D1\n",
      "9     D1\n",
      "10    D2\n",
      "11    D2\n",
      "12    D2\n",
      "13    D2\n",
      "14    D2\n",
      "15    D2\n",
      "16    D2\n",
      "17    D2\n",
      "18    D2\n",
      "19    D2\n",
      "20    D3\n",
      "21    D3\n",
      "22    D3\n",
      "23    D3\n",
      "24    D3\n",
      "25    D3\n",
      "26    D3\n",
      "27    D3\n",
      "28    D3\n",
      "29    D3\n",
      "30    D4\n",
      "31    D4\n",
      "32    D4\n",
      "33    D4\n",
      "34    D4\n",
      "35    D4\n",
      "36    D4\n",
      "37    D4\n",
      "38    D4\n",
      "39    D4\n",
      "40    D4\n",
      "41    D4\n",
      "42    D4\n",
      "43    D4\n",
      "44    D4\n",
      "45    D4\n",
      "46    D4\n",
      "hail\n",
      "   class\n",
      "0     D1\n",
      "1     D1\n",
      "2     D1\n",
      "3     D1\n",
      "4     D1\n",
      "5     D1\n",
      "6     D1\n",
      "7     D1\n",
      "8     D1\n",
      "9     D1\n",
      "10    D2\n",
      "11    D2\n",
      "12    D2\n",
      "13    D2\n",
      "14    D2\n",
      "15    D2\n",
      "16    D2\n",
      "17    D2\n",
      "18    D2\n",
      "19    D2\n",
      "20    D3\n",
      "21    D3\n",
      "22    D3\n",
      "23    D3\n",
      "24    D3\n",
      "25    D3\n",
      "26    D3\n",
      "27    D3\n",
      "28    D3\n",
      "29    D3\n",
      "30    D4\n",
      "31    D4\n",
      "32    D4\n",
      "33    D4\n",
      "34    D4\n",
      "35    D4\n",
      "36    D4\n",
      "37    D4\n",
      "38    D4\n",
      "39    D4\n",
      "40    D4\n",
      "41    D4\n",
      "42    D4\n",
      "43    D4\n",
      "44    D4\n",
      "45    D4\n",
      "46    D4\n",
      "crop-hist\n",
      "   class\n",
      "0     D1\n",
      "1     D1\n",
      "2     D1\n",
      "3     D1\n",
      "4     D1\n",
      "5     D1\n",
      "6     D1\n",
      "7     D1\n",
      "8     D1\n",
      "9     D1\n",
      "10    D2\n",
      "11    D2\n",
      "12    D2\n",
      "13    D2\n",
      "14    D2\n",
      "15    D2\n",
      "16    D2\n",
      "17    D2\n",
      "18    D2\n",
      "19    D2\n",
      "20    D3\n",
      "21    D3\n",
      "22    D3\n",
      "23    D3\n",
      "24    D3\n",
      "25    D3\n",
      "26    D3\n",
      "27    D3\n",
      "28    D3\n",
      "29    D3\n",
      "30    D4\n",
      "31    D4\n",
      "32    D4\n",
      "33    D4\n",
      "34    D4\n",
      "35    D4\n",
      "36    D4\n",
      "37    D4\n",
      "38    D4\n",
      "39    D4\n",
      "40    D4\n",
      "41    D4\n",
      "42    D4\n",
      "43    D4\n",
      "44    D4\n",
      "45    D4\n",
      "46    D4\n",
      "area-damaged\n",
      "   class\n",
      "0     D1\n",
      "1     D1\n",
      "2     D1\n",
      "3     D1\n",
      "4     D1\n",
      "5     D1\n",
      "6     D1\n",
      "7     D1\n",
      "8     D1\n",
      "9     D1\n",
      "10    D2\n",
      "11    D2\n",
      "12    D2\n",
      "13    D2\n",
      "14    D2\n",
      "15    D2\n",
      "16    D2\n",
      "17    D2\n",
      "18    D2\n",
      "19    D2\n",
      "20    D3\n",
      "21    D3\n",
      "22    D3\n",
      "23    D3\n",
      "24    D3\n",
      "25    D3\n",
      "26    D3\n",
      "27    D3\n",
      "28    D3\n",
      "29    D3\n",
      "30    D4\n",
      "31    D4\n",
      "32    D4\n",
      "33    D4\n",
      "34    D4\n",
      "35    D4\n",
      "36    D4\n",
      "37    D4\n",
      "38    D4\n",
      "39    D4\n",
      "40    D4\n",
      "41    D4\n",
      "42    D4\n",
      "43    D4\n",
      "44    D4\n",
      "45    D4\n",
      "46    D4\n",
      "severity\n",
      "   class\n",
      "0     D1\n",
      "1     D1\n",
      "2     D1\n",
      "3     D1\n",
      "4     D1\n",
      "5     D1\n",
      "6     D1\n",
      "7     D1\n",
      "8     D1\n",
      "9     D1\n",
      "10    D2\n",
      "11    D2\n",
      "12    D2\n",
      "13    D2\n",
      "14    D2\n",
      "15    D2\n",
      "16    D2\n",
      "17    D2\n",
      "18    D2\n",
      "19    D2\n",
      "20    D3\n",
      "21    D3\n",
      "22    D3\n",
      "23    D3\n",
      "24    D3\n",
      "25    D3\n",
      "26    D3\n",
      "27    D3\n",
      "28    D3\n",
      "29    D3\n",
      "30    D4\n",
      "31    D4\n",
      "32    D4\n",
      "33    D4\n",
      "34    D4\n",
      "35    D4\n",
      "36    D4\n",
      "37    D4\n",
      "38    D4\n",
      "39    D4\n",
      "40    D4\n",
      "41    D4\n",
      "42    D4\n",
      "43    D4\n",
      "44    D4\n",
      "45    D4\n",
      "46    D4\n",
      "seed-tmt\n",
      "   class\n",
      "0     D1\n",
      "1     D1\n",
      "2     D1\n",
      "3     D1\n",
      "4     D1\n",
      "5     D1\n",
      "6     D1\n",
      "7     D1\n",
      "8     D1\n",
      "9     D1\n",
      "10    D2\n",
      "11    D2\n",
      "12    D2\n",
      "13    D2\n",
      "14    D2\n",
      "15    D2\n",
      "16    D2\n",
      "17    D2\n",
      "18    D2\n",
      "19    D2\n",
      "20    D3\n",
      "21    D3\n",
      "22    D3\n",
      "23    D3\n",
      "24    D3\n",
      "25    D3\n",
      "26    D3\n",
      "27    D3\n",
      "28    D3\n",
      "29    D3\n",
      "30    D4\n",
      "31    D4\n",
      "32    D4\n",
      "33    D4\n",
      "34    D4\n",
      "35    D4\n",
      "36    D4\n",
      "37    D4\n",
      "38    D4\n",
      "39    D4\n",
      "40    D4\n",
      "41    D4\n",
      "42    D4\n",
      "43    D4\n",
      "44    D4\n",
      "45    D4\n",
      "46    D4\n",
      "germination\n",
      "   class\n",
      "0     D1\n",
      "1     D1\n",
      "2     D1\n",
      "3     D1\n",
      "4     D1\n",
      "5     D1\n",
      "6     D1\n",
      "7     D1\n",
      "8     D1\n",
      "9     D1\n",
      "10    D2\n",
      "11    D2\n",
      "12    D2\n",
      "13    D2\n",
      "14    D2\n",
      "15    D2\n",
      "16    D2\n",
      "17    D2\n",
      "18    D2\n",
      "19    D2\n",
      "20    D3\n",
      "21    D3\n",
      "22    D3\n",
      "23    D3\n",
      "24    D3\n",
      "25    D3\n",
      "26    D3\n",
      "27    D3\n",
      "28    D3\n",
      "29    D3\n",
      "30    D4\n",
      "31    D4\n",
      "32    D4\n",
      "33    D4\n",
      "34    D4\n",
      "35    D4\n",
      "36    D4\n",
      "37    D4\n",
      "38    D4\n",
      "39    D4\n",
      "40    D4\n",
      "41    D4\n",
      "42    D4\n",
      "43    D4\n",
      "44    D4\n",
      "45    D4\n",
      "46    D4\n",
      "plant-growth\n",
      "   class\n",
      "0     D1\n",
      "1     D1\n",
      "2     D1\n",
      "3     D1\n",
      "4     D1\n",
      "5     D1\n",
      "6     D1\n",
      "7     D1\n",
      "8     D1\n",
      "9     D1\n",
      "10    D2\n",
      "11    D2\n",
      "12    D2\n",
      "13    D2\n",
      "14    D2\n",
      "15    D2\n",
      "16    D2\n",
      "17    D2\n",
      "18    D2\n",
      "19    D2\n",
      "20    D3\n",
      "21    D3\n",
      "22    D3\n",
      "23    D3\n",
      "24    D3\n",
      "25    D3\n",
      "26    D3\n",
      "27    D3\n",
      "28    D3\n",
      "29    D3\n",
      "30    D4\n",
      "31    D4\n",
      "32    D4\n",
      "33    D4\n",
      "34    D4\n",
      "35    D4\n",
      "36    D4\n",
      "37    D4\n",
      "38    D4\n",
      "39    D4\n",
      "40    D4\n",
      "41    D4\n",
      "42    D4\n",
      "43    D4\n",
      "44    D4\n",
      "45    D4\n",
      "46    D4\n",
      "leaves\n",
      "   class\n",
      "0     D1\n",
      "1     D1\n",
      "2     D1\n",
      "3     D1\n",
      "4     D1\n",
      "5     D1\n",
      "6     D1\n",
      "7     D1\n",
      "8     D1\n",
      "9     D1\n",
      "10    D2\n",
      "11    D2\n",
      "12    D2\n",
      "13    D2\n",
      "14    D2\n",
      "15    D2\n",
      "16    D2\n",
      "17    D2\n",
      "18    D2\n",
      "19    D2\n",
      "20    D3\n",
      "21    D3\n",
      "22    D3\n",
      "23    D3\n",
      "24    D3\n",
      "25    D3\n",
      "26    D3\n",
      "27    D3\n",
      "28    D3\n",
      "29    D3\n",
      "30    D4\n",
      "31    D4\n",
      "32    D4\n",
      "33    D4\n",
      "34    D4\n",
      "35    D4\n",
      "36    D4\n",
      "37    D4\n",
      "38    D4\n",
      "39    D4\n",
      "40    D4\n",
      "41    D4\n",
      "42    D4\n",
      "43    D4\n",
      "44    D4\n",
      "45    D4\n",
      "46    D4\n",
      "leafspots-halo\n",
      "   class\n",
      "0     D1\n",
      "1     D1\n",
      "2     D1\n",
      "3     D1\n",
      "4     D1\n",
      "5     D1\n",
      "6     D1\n",
      "7     D1\n",
      "8     D1\n",
      "9     D1\n",
      "10    D2\n",
      "11    D2\n",
      "12    D2\n",
      "13    D2\n",
      "14    D2\n",
      "15    D2\n",
      "16    D2\n",
      "17    D2\n",
      "18    D2\n",
      "19    D2\n",
      "20    D3\n",
      "21    D3\n",
      "22    D3\n",
      "23    D3\n",
      "24    D3\n",
      "25    D3\n",
      "26    D3\n",
      "27    D3\n",
      "28    D3\n",
      "29    D3\n",
      "30    D4\n",
      "31    D4\n",
      "32    D4\n",
      "33    D4\n",
      "34    D4\n",
      "35    D4\n",
      "36    D4\n",
      "37    D4\n",
      "38    D4\n",
      "39    D4\n",
      "40    D4\n",
      "41    D4\n",
      "42    D4\n",
      "43    D4\n",
      "44    D4\n",
      "45    D4\n",
      "46    D4\n",
      "leafspots-marg\n",
      "   class\n",
      "0     D1\n",
      "1     D1\n",
      "2     D1\n",
      "3     D1\n",
      "4     D1\n",
      "5     D1\n",
      "6     D1\n",
      "7     D1\n",
      "8     D1\n",
      "9     D1\n",
      "10    D2\n",
      "11    D2\n",
      "12    D2\n",
      "13    D2\n",
      "14    D2\n",
      "15    D2\n",
      "16    D2\n",
      "17    D2\n",
      "18    D2\n",
      "19    D2\n",
      "20    D3\n",
      "21    D3\n",
      "22    D3\n",
      "23    D3\n",
      "24    D3\n",
      "25    D3\n",
      "26    D3\n",
      "27    D3\n",
      "28    D3\n",
      "29    D3\n",
      "30    D4\n",
      "31    D4\n",
      "32    D4\n",
      "33    D4\n",
      "34    D4\n",
      "35    D4\n",
      "36    D4\n",
      "37    D4\n",
      "38    D4\n",
      "39    D4\n",
      "40    D4\n",
      "41    D4\n",
      "42    D4\n",
      "43    D4\n",
      "44    D4\n",
      "45    D4\n",
      "46    D4\n",
      "leafspot-size\n",
      "   class\n",
      "0     D1\n",
      "1     D1\n",
      "2     D1\n",
      "3     D1\n",
      "4     D1\n",
      "5     D1\n",
      "6     D1\n",
      "7     D1\n",
      "8     D1\n",
      "9     D1\n",
      "10    D2\n",
      "11    D2\n",
      "12    D2\n",
      "13    D2\n",
      "14    D2\n",
      "15    D2\n",
      "16    D2\n",
      "17    D2\n",
      "18    D2\n",
      "19    D2\n",
      "20    D3\n",
      "21    D3\n",
      "22    D3\n",
      "23    D3\n",
      "24    D3\n",
      "25    D3\n",
      "26    D3\n",
      "27    D3\n",
      "28    D3\n",
      "29    D3\n",
      "30    D4\n",
      "31    D4\n",
      "32    D4\n",
      "33    D4\n",
      "34    D4\n",
      "35    D4\n",
      "36    D4\n",
      "37    D4\n",
      "38    D4\n",
      "39    D4\n",
      "40    D4\n",
      "41    D4\n",
      "42    D4\n",
      "43    D4\n",
      "44    D4\n",
      "45    D4\n",
      "46    D4\n",
      "leaf-shread\n",
      "   class\n",
      "0     D1\n",
      "1     D1\n",
      "2     D1\n",
      "3     D1\n",
      "4     D1\n",
      "5     D1\n",
      "6     D1\n",
      "7     D1\n",
      "8     D1\n",
      "9     D1\n",
      "10    D2\n",
      "11    D2\n",
      "12    D2\n",
      "13    D2\n",
      "14    D2\n",
      "15    D2\n",
      "16    D2\n",
      "17    D2\n",
      "18    D2\n",
      "19    D2\n",
      "20    D3\n",
      "21    D3\n",
      "22    D3\n",
      "23    D3\n",
      "24    D3\n",
      "25    D3\n",
      "26    D3\n",
      "27    D3\n",
      "28    D3\n",
      "29    D3\n",
      "30    D4\n",
      "31    D4\n",
      "32    D4\n",
      "33    D4\n",
      "34    D4\n",
      "35    D4\n",
      "36    D4\n",
      "37    D4\n",
      "38    D4\n",
      "39    D4\n",
      "40    D4\n",
      "41    D4\n",
      "42    D4\n",
      "43    D4\n",
      "44    D4\n",
      "45    D4\n",
      "46    D4\n",
      "leaf-malf\n",
      "   class\n",
      "0     D1\n",
      "1     D1\n",
      "2     D1\n",
      "3     D1\n",
      "4     D1\n",
      "5     D1\n",
      "6     D1\n",
      "7     D1\n",
      "8     D1\n",
      "9     D1\n",
      "10    D2\n",
      "11    D2\n",
      "12    D2\n",
      "13    D2\n",
      "14    D2\n",
      "15    D2\n",
      "16    D2\n",
      "17    D2\n",
      "18    D2\n",
      "19    D2\n",
      "20    D3\n",
      "21    D3\n",
      "22    D3\n",
      "23    D3\n",
      "24    D3\n",
      "25    D3\n",
      "26    D3\n",
      "27    D3\n",
      "28    D3\n",
      "29    D3\n",
      "30    D4\n",
      "31    D4\n",
      "32    D4\n",
      "33    D4\n",
      "34    D4\n",
      "35    D4\n",
      "36    D4\n",
      "37    D4\n",
      "38    D4\n",
      "39    D4\n",
      "40    D4\n",
      "41    D4\n",
      "42    D4\n",
      "43    D4\n",
      "44    D4\n",
      "45    D4\n",
      "46    D4\n",
      "leaf-mild\n",
      "   class\n",
      "0     D1\n",
      "1     D1\n",
      "2     D1\n",
      "3     D1\n",
      "4     D1\n",
      "5     D1\n",
      "6     D1\n",
      "7     D1\n",
      "8     D1\n",
      "9     D1\n",
      "10    D2\n",
      "11    D2\n",
      "12    D2\n",
      "13    D2\n",
      "14    D2\n",
      "15    D2\n",
      "16    D2\n",
      "17    D2\n",
      "18    D2\n",
      "19    D2\n",
      "20    D3\n",
      "21    D3\n",
      "22    D3\n",
      "23    D3\n",
      "24    D3\n",
      "25    D3\n",
      "26    D3\n",
      "27    D3\n",
      "28    D3\n",
      "29    D3\n",
      "30    D4\n",
      "31    D4\n",
      "32    D4\n",
      "33    D4\n",
      "34    D4\n",
      "35    D4\n",
      "36    D4\n",
      "37    D4\n",
      "38    D4\n",
      "39    D4\n",
      "40    D4\n",
      "41    D4\n",
      "42    D4\n",
      "43    D4\n",
      "44    D4\n",
      "45    D4\n",
      "46    D4\n",
      "stem\n",
      "   class\n",
      "0     D1\n",
      "1     D1\n",
      "2     D1\n",
      "3     D1\n",
      "4     D1\n",
      "5     D1\n",
      "6     D1\n",
      "7     D1\n",
      "8     D1\n",
      "9     D1\n",
      "10    D2\n",
      "11    D2\n",
      "12    D2\n",
      "13    D2\n",
      "14    D2\n",
      "15    D2\n",
      "16    D2\n",
      "17    D2\n",
      "18    D2\n",
      "19    D2\n",
      "20    D3\n",
      "21    D3\n",
      "22    D3\n",
      "23    D3\n",
      "24    D3\n",
      "25    D3\n",
      "26    D3\n",
      "27    D3\n",
      "28    D3\n",
      "29    D3\n",
      "30    D4\n",
      "31    D4\n",
      "32    D4\n",
      "33    D4\n",
      "34    D4\n",
      "35    D4\n",
      "36    D4\n",
      "37    D4\n",
      "38    D4\n",
      "39    D4\n",
      "40    D4\n",
      "41    D4\n",
      "42    D4\n",
      "43    D4\n",
      "44    D4\n",
      "45    D4\n",
      "46    D4\n",
      "lodging\n",
      "   class\n",
      "0     D1\n",
      "1     D1\n",
      "2     D1\n",
      "3     D1\n",
      "4     D1\n",
      "5     D1\n",
      "6     D1\n",
      "7     D1\n",
      "8     D1\n",
      "9     D1\n",
      "10    D2\n",
      "11    D2\n",
      "12    D2\n",
      "13    D2\n",
      "14    D2\n",
      "15    D2\n",
      "16    D2\n",
      "17    D2\n",
      "18    D2\n",
      "19    D2\n",
      "20    D3\n",
      "21    D3\n",
      "22    D3\n",
      "23    D3\n",
      "24    D3\n",
      "25    D3\n",
      "26    D3\n",
      "27    D3\n",
      "28    D3\n",
      "29    D3\n",
      "30    D4\n",
      "31    D4\n",
      "32    D4\n",
      "33    D4\n",
      "34    D4\n",
      "35    D4\n",
      "36    D4\n",
      "37    D4\n",
      "38    D4\n",
      "39    D4\n",
      "40    D4\n",
      "41    D4\n",
      "42    D4\n",
      "43    D4\n",
      "44    D4\n",
      "45    D4\n",
      "46    D4\n",
      "stem-cankers\n",
      "   class\n",
      "0     D1\n",
      "1     D1\n",
      "2     D1\n",
      "3     D1\n",
      "4     D1\n",
      "5     D1\n",
      "6     D1\n",
      "7     D1\n",
      "8     D1\n",
      "9     D1\n",
      "10    D2\n",
      "11    D2\n",
      "12    D2\n",
      "13    D2\n",
      "14    D2\n",
      "15    D2\n",
      "16    D2\n",
      "17    D2\n",
      "18    D2\n",
      "19    D2\n",
      "20    D3\n",
      "21    D3\n",
      "22    D3\n",
      "23    D3\n",
      "24    D3\n",
      "25    D3\n",
      "26    D3\n",
      "27    D3\n",
      "28    D3\n",
      "29    D3\n",
      "30    D4\n",
      "31    D4\n",
      "32    D4\n",
      "33    D4\n",
      "34    D4\n",
      "35    D4\n",
      "36    D4\n",
      "37    D4\n",
      "38    D4\n",
      "39    D4\n",
      "40    D4\n",
      "41    D4\n",
      "42    D4\n",
      "43    D4\n",
      "44    D4\n",
      "45    D4\n",
      "46    D4\n",
      "canker-lesion\n",
      "   class\n",
      "0     D1\n",
      "1     D1\n",
      "2     D1\n",
      "3     D1\n",
      "4     D1\n",
      "5     D1\n",
      "6     D1\n",
      "7     D1\n",
      "8     D1\n",
      "9     D1\n",
      "10    D2\n",
      "11    D2\n",
      "12    D2\n",
      "13    D2\n",
      "14    D2\n",
      "15    D2\n",
      "16    D2\n",
      "17    D2\n",
      "18    D2\n",
      "19    D2\n",
      "20    D3\n",
      "21    D3\n",
      "22    D3\n",
      "23    D3\n",
      "24    D3\n",
      "25    D3\n",
      "26    D3\n",
      "27    D3\n",
      "28    D3\n",
      "29    D3\n",
      "30    D4\n",
      "31    D4\n",
      "32    D4\n",
      "33    D4\n",
      "34    D4\n",
      "35    D4\n",
      "36    D4\n",
      "37    D4\n",
      "38    D4\n",
      "39    D4\n",
      "40    D4\n",
      "41    D4\n",
      "42    D4\n",
      "43    D4\n",
      "44    D4\n",
      "45    D4\n",
      "46    D4\n",
      "fruiting-bodies\n",
      "   class\n",
      "0     D1\n",
      "1     D1\n",
      "2     D1\n",
      "3     D1\n",
      "4     D1\n",
      "5     D1\n",
      "6     D1\n",
      "7     D1\n",
      "8     D1\n",
      "9     D1\n",
      "10    D2\n",
      "11    D2\n",
      "12    D2\n",
      "13    D2\n",
      "14    D2\n",
      "15    D2\n",
      "16    D2\n",
      "17    D2\n",
      "18    D2\n",
      "19    D2\n",
      "20    D3\n",
      "21    D3\n",
      "22    D3\n",
      "23    D3\n",
      "24    D3\n",
      "25    D3\n",
      "26    D3\n",
      "27    D3\n",
      "28    D3\n",
      "29    D3\n",
      "30    D4\n",
      "31    D4\n",
      "32    D4\n",
      "33    D4\n",
      "34    D4\n",
      "35    D4\n",
      "36    D4\n",
      "37    D4\n",
      "38    D4\n",
      "39    D4\n",
      "40    D4\n",
      "41    D4\n",
      "42    D4\n",
      "43    D4\n",
      "44    D4\n",
      "45    D4\n",
      "46    D4\n",
      "external-decay\n",
      "   class\n",
      "0     D1\n",
      "1     D1\n",
      "2     D1\n",
      "3     D1\n",
      "4     D1\n",
      "5     D1\n",
      "6     D1\n",
      "7     D1\n",
      "8     D1\n",
      "9     D1\n",
      "10    D2\n",
      "11    D2\n",
      "12    D2\n",
      "13    D2\n",
      "14    D2\n",
      "15    D2\n",
      "16    D2\n",
      "17    D2\n",
      "18    D2\n",
      "19    D2\n",
      "20    D3\n",
      "21    D3\n",
      "22    D3\n",
      "23    D3\n",
      "24    D3\n",
      "25    D3\n",
      "26    D3\n",
      "27    D3\n",
      "28    D3\n",
      "29    D3\n",
      "30    D4\n",
      "31    D4\n",
      "32    D4\n",
      "33    D4\n",
      "34    D4\n",
      "35    D4\n",
      "36    D4\n",
      "37    D4\n",
      "38    D4\n",
      "39    D4\n",
      "40    D4\n",
      "41    D4\n",
      "42    D4\n",
      "43    D4\n",
      "44    D4\n",
      "45    D4\n",
      "46    D4\n",
      "mycelium\n",
      "   class\n",
      "0     D1\n",
      "1     D1\n",
      "2     D1\n",
      "3     D1\n",
      "4     D1\n",
      "5     D1\n",
      "6     D1\n",
      "7     D1\n",
      "8     D1\n",
      "9     D1\n",
      "10    D2\n",
      "11    D2\n",
      "12    D2\n",
      "13    D2\n",
      "14    D2\n",
      "15    D2\n",
      "16    D2\n",
      "17    D2\n",
      "18    D2\n",
      "19    D2\n",
      "20    D3\n",
      "21    D3\n",
      "22    D3\n",
      "23    D3\n",
      "24    D3\n",
      "25    D3\n",
      "26    D3\n",
      "27    D3\n",
      "28    D3\n",
      "29    D3\n",
      "30    D4\n",
      "31    D4\n",
      "32    D4\n",
      "33    D4\n",
      "34    D4\n",
      "35    D4\n",
      "36    D4\n",
      "37    D4\n",
      "38    D4\n",
      "39    D4\n",
      "40    D4\n",
      "41    D4\n",
      "42    D4\n",
      "43    D4\n",
      "44    D4\n",
      "45    D4\n",
      "46    D4\n",
      "int-discolor\n",
      "   class\n",
      "0     D1\n",
      "1     D1\n",
      "2     D1\n",
      "3     D1\n",
      "4     D1\n",
      "5     D1\n",
      "6     D1\n",
      "7     D1\n",
      "8     D1\n",
      "9     D1\n",
      "10    D2\n",
      "11    D2\n",
      "12    D2\n",
      "13    D2\n",
      "14    D2\n",
      "15    D2\n",
      "16    D2\n",
      "17    D2\n",
      "18    D2\n",
      "19    D2\n",
      "20    D3\n",
      "21    D3\n",
      "22    D3\n",
      "23    D3\n",
      "24    D3\n",
      "25    D3\n",
      "26    D3\n",
      "27    D3\n",
      "28    D3\n",
      "29    D3\n",
      "30    D4\n",
      "31    D4\n",
      "32    D4\n",
      "33    D4\n",
      "34    D4\n",
      "35    D4\n",
      "36    D4\n",
      "37    D4\n",
      "38    D4\n",
      "39    D4\n",
      "40    D4\n",
      "41    D4\n",
      "42    D4\n",
      "43    D4\n",
      "44    D4\n",
      "45    D4\n",
      "46    D4\n",
      "sclerotia\n",
      "   class\n",
      "0     D1\n",
      "1     D1\n",
      "2     D1\n",
      "3     D1\n",
      "4     D1\n",
      "5     D1\n",
      "6     D1\n",
      "7     D1\n",
      "8     D1\n",
      "9     D1\n",
      "10    D2\n",
      "11    D2\n",
      "12    D2\n",
      "13    D2\n",
      "14    D2\n",
      "15    D2\n",
      "16    D2\n",
      "17    D2\n",
      "18    D2\n",
      "19    D2\n",
      "20    D3\n",
      "21    D3\n",
      "22    D3\n",
      "23    D3\n",
      "24    D3\n",
      "25    D3\n",
      "26    D3\n",
      "27    D3\n",
      "28    D3\n",
      "29    D3\n",
      "30    D4\n",
      "31    D4\n",
      "32    D4\n",
      "33    D4\n",
      "34    D4\n",
      "35    D4\n",
      "36    D4\n",
      "37    D4\n",
      "38    D4\n",
      "39    D4\n",
      "40    D4\n",
      "41    D4\n",
      "42    D4\n",
      "43    D4\n",
      "44    D4\n",
      "45    D4\n",
      "46    D4\n",
      "fruit-pods\n",
      "   class\n",
      "0     D1\n",
      "1     D1\n",
      "2     D1\n",
      "3     D1\n",
      "4     D1\n",
      "5     D1\n",
      "6     D1\n",
      "7     D1\n",
      "8     D1\n",
      "9     D1\n",
      "10    D2\n",
      "11    D2\n",
      "12    D2\n",
      "13    D2\n",
      "14    D2\n",
      "15    D2\n",
      "16    D2\n",
      "17    D2\n",
      "18    D2\n",
      "19    D2\n",
      "20    D3\n",
      "21    D3\n",
      "22    D3\n",
      "23    D3\n",
      "24    D3\n",
      "25    D3\n",
      "26    D3\n",
      "27    D3\n",
      "28    D3\n",
      "29    D3\n",
      "30    D4\n",
      "31    D4\n",
      "32    D4\n",
      "33    D4\n",
      "34    D4\n",
      "35    D4\n",
      "36    D4\n",
      "37    D4\n",
      "38    D4\n",
      "39    D4\n",
      "40    D4\n",
      "41    D4\n",
      "42    D4\n",
      "43    D4\n",
      "44    D4\n",
      "45    D4\n",
      "46    D4\n",
      "fruit-spots\n",
      "   class\n",
      "0     D1\n",
      "1     D1\n",
      "2     D1\n",
      "3     D1\n",
      "4     D1\n",
      "5     D1\n",
      "6     D1\n",
      "7     D1\n",
      "8     D1\n",
      "9     D1\n",
      "10    D2\n",
      "11    D2\n",
      "12    D2\n",
      "13    D2\n",
      "14    D2\n",
      "15    D2\n",
      "16    D2\n",
      "17    D2\n",
      "18    D2\n",
      "19    D2\n",
      "20    D3\n",
      "21    D3\n",
      "22    D3\n",
      "23    D3\n",
      "24    D3\n",
      "25    D3\n",
      "26    D3\n",
      "27    D3\n",
      "28    D3\n",
      "29    D3\n",
      "30    D4\n",
      "31    D4\n",
      "32    D4\n",
      "33    D4\n",
      "34    D4\n",
      "35    D4\n",
      "36    D4\n",
      "37    D4\n",
      "38    D4\n",
      "39    D4\n",
      "40    D4\n",
      "41    D4\n",
      "42    D4\n",
      "43    D4\n",
      "44    D4\n",
      "45    D4\n",
      "46    D4\n",
      "seed\n",
      "   class\n",
      "0     D1\n",
      "1     D1\n",
      "2     D1\n",
      "3     D1\n",
      "4     D1\n",
      "5     D1\n",
      "6     D1\n",
      "7     D1\n",
      "8     D1\n",
      "9     D1\n",
      "10    D2\n",
      "11    D2\n",
      "12    D2\n",
      "13    D2\n",
      "14    D2\n",
      "15    D2\n",
      "16    D2\n",
      "17    D2\n",
      "18    D2\n",
      "19    D2\n",
      "20    D3\n",
      "21    D3\n",
      "22    D3\n",
      "23    D3\n",
      "24    D3\n",
      "25    D3\n",
      "26    D3\n",
      "27    D3\n",
      "28    D3\n",
      "29    D3\n",
      "30    D4\n",
      "31    D4\n",
      "32    D4\n",
      "33    D4\n",
      "34    D4\n",
      "35    D4\n",
      "36    D4\n",
      "37    D4\n",
      "38    D4\n",
      "39    D4\n",
      "40    D4\n",
      "41    D4\n",
      "42    D4\n",
      "43    D4\n",
      "44    D4\n",
      "45    D4\n",
      "46    D4\n",
      "mold-growth\n",
      "   class\n",
      "0     D1\n",
      "1     D1\n",
      "2     D1\n",
      "3     D1\n",
      "4     D1\n",
      "5     D1\n",
      "6     D1\n",
      "7     D1\n",
      "8     D1\n",
      "9     D1\n",
      "10    D2\n",
      "11    D2\n",
      "12    D2\n",
      "13    D2\n",
      "14    D2\n",
      "15    D2\n",
      "16    D2\n",
      "17    D2\n",
      "18    D2\n",
      "19    D2\n",
      "20    D3\n",
      "21    D3\n",
      "22    D3\n",
      "23    D3\n",
      "24    D3\n",
      "25    D3\n",
      "26    D3\n",
      "27    D3\n",
      "28    D3\n",
      "29    D3\n",
      "30    D4\n",
      "31    D4\n",
      "32    D4\n",
      "33    D4\n",
      "34    D4\n",
      "35    D4\n",
      "36    D4\n",
      "37    D4\n",
      "38    D4\n",
      "39    D4\n",
      "40    D4\n",
      "41    D4\n",
      "42    D4\n",
      "43    D4\n",
      "44    D4\n",
      "45    D4\n",
      "46    D4\n",
      "seed-discolor\n",
      "   class\n",
      "0     D1\n",
      "1     D1\n",
      "2     D1\n",
      "3     D1\n",
      "4     D1\n",
      "5     D1\n",
      "6     D1\n",
      "7     D1\n",
      "8     D1\n",
      "9     D1\n",
      "10    D2\n",
      "11    D2\n",
      "12    D2\n",
      "13    D2\n",
      "14    D2\n",
      "15    D2\n",
      "16    D2\n",
      "17    D2\n",
      "18    D2\n",
      "19    D2\n",
      "20    D3\n",
      "21    D3\n",
      "22    D3\n",
      "23    D3\n",
      "24    D3\n",
      "25    D3\n",
      "26    D3\n",
      "27    D3\n",
      "28    D3\n",
      "29    D3\n",
      "30    D4\n",
      "31    D4\n",
      "32    D4\n",
      "33    D4\n",
      "34    D4\n",
      "35    D4\n",
      "36    D4\n",
      "37    D4\n",
      "38    D4\n",
      "39    D4\n",
      "40    D4\n",
      "41    D4\n",
      "42    D4\n",
      "43    D4\n",
      "44    D4\n",
      "45    D4\n",
      "46    D4\n",
      "seed-size\n",
      "   class\n",
      "0     D1\n",
      "1     D1\n",
      "2     D1\n",
      "3     D1\n",
      "4     D1\n",
      "5     D1\n",
      "6     D1\n",
      "7     D1\n",
      "8     D1\n",
      "9     D1\n",
      "10    D2\n",
      "11    D2\n",
      "12    D2\n",
      "13    D2\n",
      "14    D2\n",
      "15    D2\n",
      "16    D2\n",
      "17    D2\n",
      "18    D2\n",
      "19    D2\n",
      "20    D3\n",
      "21    D3\n",
      "22    D3\n",
      "23    D3\n",
      "24    D3\n",
      "25    D3\n",
      "26    D3\n",
      "27    D3\n",
      "28    D3\n",
      "29    D3\n",
      "30    D4\n",
      "31    D4\n",
      "32    D4\n",
      "33    D4\n",
      "34    D4\n",
      "35    D4\n",
      "36    D4\n",
      "37    D4\n",
      "38    D4\n",
      "39    D4\n",
      "40    D4\n",
      "41    D4\n",
      "42    D4\n",
      "43    D4\n",
      "44    D4\n",
      "45    D4\n",
      "46    D4\n",
      "shriveling\n",
      "   class\n",
      "0     D1\n",
      "1     D1\n",
      "2     D1\n",
      "3     D1\n",
      "4     D1\n",
      "5     D1\n",
      "6     D1\n",
      "7     D1\n",
      "8     D1\n",
      "9     D1\n",
      "10    D2\n",
      "11    D2\n",
      "12    D2\n",
      "13    D2\n",
      "14    D2\n",
      "15    D2\n",
      "16    D2\n",
      "17    D2\n",
      "18    D2\n",
      "19    D2\n",
      "20    D3\n",
      "21    D3\n",
      "22    D3\n",
      "23    D3\n",
      "24    D3\n",
      "25    D3\n",
      "26    D3\n",
      "27    D3\n",
      "28    D3\n",
      "29    D3\n",
      "30    D4\n",
      "31    D4\n",
      "32    D4\n",
      "33    D4\n",
      "34    D4\n",
      "35    D4\n",
      "36    D4\n",
      "37    D4\n",
      "38    D4\n",
      "39    D4\n",
      "40    D4\n",
      "41    D4\n",
      "42    D4\n",
      "43    D4\n",
      "44    D4\n",
      "45    D4\n",
      "46    D4\n",
      "roots\n",
      "   class\n",
      "0     D1\n",
      "1     D1\n",
      "2     D1\n",
      "3     D1\n",
      "4     D1\n",
      "5     D1\n",
      "6     D1\n",
      "7     D1\n",
      "8     D1\n",
      "9     D1\n",
      "10    D2\n",
      "11    D2\n",
      "12    D2\n",
      "13    D2\n",
      "14    D2\n",
      "15    D2\n",
      "16    D2\n",
      "17    D2\n",
      "18    D2\n",
      "19    D2\n",
      "20    D3\n",
      "21    D3\n",
      "22    D3\n",
      "23    D3\n",
      "24    D3\n",
      "25    D3\n",
      "26    D3\n",
      "27    D3\n",
      "28    D3\n",
      "29    D3\n",
      "30    D4\n",
      "31    D4\n",
      "32    D4\n",
      "33    D4\n",
      "34    D4\n",
      "35    D4\n",
      "36    D4\n",
      "37    D4\n",
      "38    D4\n",
      "39    D4\n",
      "40    D4\n",
      "41    D4\n",
      "42    D4\n",
      "43    D4\n",
      "44    D4\n",
      "45    D4\n",
      "46    D4\n"
     ]
    }
   ],
   "source": [
    "columns = X_soy.columns\n",
    "\n",
    "print(\"Columns present in the dataset:\")\n",
    "for column in columns:\n",
    "    print(column)\n",
    "    \n",
    "    print(y_soy)"
   ]
  },
  {
   "cell_type": "code",
   "execution_count": null,
   "id": "c02afd2e",
   "metadata": {
    "scrolled": false
   },
   "outputs": [],
   "source": []
  },
  {
   "cell_type": "code",
   "execution_count": 25,
   "id": "97b59237",
   "metadata": {},
   "outputs": [],
   "source": [
    "\n"
   ]
  },
  {
   "cell_type": "code",
   "execution_count": 21,
   "id": "b64170d2",
   "metadata": {},
   "outputs": [],
   "source": [
    "'''def generate_scatter_plot(data, labels, title):\n",
    "    fig = px.scatter(x=data[:, 0], y=data[:, 1], color=labels, title=title, labels={'x': 'Feature 1', 'y': 'Feature 2'})\n",
    "    fig.update_traces(marker=dict(size=5))\n",
    "    fig.show()'''"
   ]
  },
  {
   "cell_type": "code",
   "execution_count": 42,
   "id": "889550f9",
   "metadata": {},
   "outputs": [
    {
     "data": {
      "application/vnd.plotly.v1+json": {
       "config": {
        "plotlyServerURL": "https://plot.ly"
       },
       "data": [
        {
         "type": "bar",
         "x": [
          0,
          3,
          2,
          6,
          4,
          5,
          1
         ],
         "y": [
          10,
          9,
          7,
          6,
          5,
          5,
          5
         ]
        }
       ],
       "layout": {
        "template": {
         "data": {
          "bar": [
           {
            "error_x": {
             "color": "#2a3f5f"
            },
            "error_y": {
             "color": "#2a3f5f"
            },
            "marker": {
             "line": {
              "color": "#E5ECF6",
              "width": 0.5
             },
             "pattern": {
              "fillmode": "overlay",
              "size": 10,
              "solidity": 0.2
             }
            },
            "type": "bar"
           }
          ],
          "barpolar": [
           {
            "marker": {
             "line": {
              "color": "#E5ECF6",
              "width": 0.5
             },
             "pattern": {
              "fillmode": "overlay",
              "size": 10,
              "solidity": 0.2
             }
            },
            "type": "barpolar"
           }
          ],
          "carpet": [
           {
            "aaxis": {
             "endlinecolor": "#2a3f5f",
             "gridcolor": "white",
             "linecolor": "white",
             "minorgridcolor": "white",
             "startlinecolor": "#2a3f5f"
            },
            "baxis": {
             "endlinecolor": "#2a3f5f",
             "gridcolor": "white",
             "linecolor": "white",
             "minorgridcolor": "white",
             "startlinecolor": "#2a3f5f"
            },
            "type": "carpet"
           }
          ],
          "choropleth": [
           {
            "colorbar": {
             "outlinewidth": 0,
             "ticks": ""
            },
            "type": "choropleth"
           }
          ],
          "contour": [
           {
            "colorbar": {
             "outlinewidth": 0,
             "ticks": ""
            },
            "colorscale": [
             [
              0,
              "#0d0887"
             ],
             [
              0.1111111111111111,
              "#46039f"
             ],
             [
              0.2222222222222222,
              "#7201a8"
             ],
             [
              0.3333333333333333,
              "#9c179e"
             ],
             [
              0.4444444444444444,
              "#bd3786"
             ],
             [
              0.5555555555555556,
              "#d8576b"
             ],
             [
              0.6666666666666666,
              "#ed7953"
             ],
             [
              0.7777777777777778,
              "#fb9f3a"
             ],
             [
              0.8888888888888888,
              "#fdca26"
             ],
             [
              1,
              "#f0f921"
             ]
            ],
            "type": "contour"
           }
          ],
          "contourcarpet": [
           {
            "colorbar": {
             "outlinewidth": 0,
             "ticks": ""
            },
            "type": "contourcarpet"
           }
          ],
          "heatmap": [
           {
            "colorbar": {
             "outlinewidth": 0,
             "ticks": ""
            },
            "colorscale": [
             [
              0,
              "#0d0887"
             ],
             [
              0.1111111111111111,
              "#46039f"
             ],
             [
              0.2222222222222222,
              "#7201a8"
             ],
             [
              0.3333333333333333,
              "#9c179e"
             ],
             [
              0.4444444444444444,
              "#bd3786"
             ],
             [
              0.5555555555555556,
              "#d8576b"
             ],
             [
              0.6666666666666666,
              "#ed7953"
             ],
             [
              0.7777777777777778,
              "#fb9f3a"
             ],
             [
              0.8888888888888888,
              "#fdca26"
             ],
             [
              1,
              "#f0f921"
             ]
            ],
            "type": "heatmap"
           }
          ],
          "heatmapgl": [
           {
            "colorbar": {
             "outlinewidth": 0,
             "ticks": ""
            },
            "colorscale": [
             [
              0,
              "#0d0887"
             ],
             [
              0.1111111111111111,
              "#46039f"
             ],
             [
              0.2222222222222222,
              "#7201a8"
             ],
             [
              0.3333333333333333,
              "#9c179e"
             ],
             [
              0.4444444444444444,
              "#bd3786"
             ],
             [
              0.5555555555555556,
              "#d8576b"
             ],
             [
              0.6666666666666666,
              "#ed7953"
             ],
             [
              0.7777777777777778,
              "#fb9f3a"
             ],
             [
              0.8888888888888888,
              "#fdca26"
             ],
             [
              1,
              "#f0f921"
             ]
            ],
            "type": "heatmapgl"
           }
          ],
          "histogram": [
           {
            "marker": {
             "pattern": {
              "fillmode": "overlay",
              "size": 10,
              "solidity": 0.2
             }
            },
            "type": "histogram"
           }
          ],
          "histogram2d": [
           {
            "colorbar": {
             "outlinewidth": 0,
             "ticks": ""
            },
            "colorscale": [
             [
              0,
              "#0d0887"
             ],
             [
              0.1111111111111111,
              "#46039f"
             ],
             [
              0.2222222222222222,
              "#7201a8"
             ],
             [
              0.3333333333333333,
              "#9c179e"
             ],
             [
              0.4444444444444444,
              "#bd3786"
             ],
             [
              0.5555555555555556,
              "#d8576b"
             ],
             [
              0.6666666666666666,
              "#ed7953"
             ],
             [
              0.7777777777777778,
              "#fb9f3a"
             ],
             [
              0.8888888888888888,
              "#fdca26"
             ],
             [
              1,
              "#f0f921"
             ]
            ],
            "type": "histogram2d"
           }
          ],
          "histogram2dcontour": [
           {
            "colorbar": {
             "outlinewidth": 0,
             "ticks": ""
            },
            "colorscale": [
             [
              0,
              "#0d0887"
             ],
             [
              0.1111111111111111,
              "#46039f"
             ],
             [
              0.2222222222222222,
              "#7201a8"
             ],
             [
              0.3333333333333333,
              "#9c179e"
             ],
             [
              0.4444444444444444,
              "#bd3786"
             ],
             [
              0.5555555555555556,
              "#d8576b"
             ],
             [
              0.6666666666666666,
              "#ed7953"
             ],
             [
              0.7777777777777778,
              "#fb9f3a"
             ],
             [
              0.8888888888888888,
              "#fdca26"
             ],
             [
              1,
              "#f0f921"
             ]
            ],
            "type": "histogram2dcontour"
           }
          ],
          "mesh3d": [
           {
            "colorbar": {
             "outlinewidth": 0,
             "ticks": ""
            },
            "type": "mesh3d"
           }
          ],
          "parcoords": [
           {
            "line": {
             "colorbar": {
              "outlinewidth": 0,
              "ticks": ""
             }
            },
            "type": "parcoords"
           }
          ],
          "pie": [
           {
            "automargin": true,
            "type": "pie"
           }
          ],
          "scatter": [
           {
            "fillpattern": {
             "fillmode": "overlay",
             "size": 10,
             "solidity": 0.2
            },
            "type": "scatter"
           }
          ],
          "scatter3d": [
           {
            "line": {
             "colorbar": {
              "outlinewidth": 0,
              "ticks": ""
             }
            },
            "marker": {
             "colorbar": {
              "outlinewidth": 0,
              "ticks": ""
             }
            },
            "type": "scatter3d"
           }
          ],
          "scattercarpet": [
           {
            "marker": {
             "colorbar": {
              "outlinewidth": 0,
              "ticks": ""
             }
            },
            "type": "scattercarpet"
           }
          ],
          "scattergeo": [
           {
            "marker": {
             "colorbar": {
              "outlinewidth": 0,
              "ticks": ""
             }
            },
            "type": "scattergeo"
           }
          ],
          "scattergl": [
           {
            "marker": {
             "colorbar": {
              "outlinewidth": 0,
              "ticks": ""
             }
            },
            "type": "scattergl"
           }
          ],
          "scattermapbox": [
           {
            "marker": {
             "colorbar": {
              "outlinewidth": 0,
              "ticks": ""
             }
            },
            "type": "scattermapbox"
           }
          ],
          "scatterpolar": [
           {
            "marker": {
             "colorbar": {
              "outlinewidth": 0,
              "ticks": ""
             }
            },
            "type": "scatterpolar"
           }
          ],
          "scatterpolargl": [
           {
            "marker": {
             "colorbar": {
              "outlinewidth": 0,
              "ticks": ""
             }
            },
            "type": "scatterpolargl"
           }
          ],
          "scatterternary": [
           {
            "marker": {
             "colorbar": {
              "outlinewidth": 0,
              "ticks": ""
             }
            },
            "type": "scatterternary"
           }
          ],
          "surface": [
           {
            "colorbar": {
             "outlinewidth": 0,
             "ticks": ""
            },
            "colorscale": [
             [
              0,
              "#0d0887"
             ],
             [
              0.1111111111111111,
              "#46039f"
             ],
             [
              0.2222222222222222,
              "#7201a8"
             ],
             [
              0.3333333333333333,
              "#9c179e"
             ],
             [
              0.4444444444444444,
              "#bd3786"
             ],
             [
              0.5555555555555556,
              "#d8576b"
             ],
             [
              0.6666666666666666,
              "#ed7953"
             ],
             [
              0.7777777777777778,
              "#fb9f3a"
             ],
             [
              0.8888888888888888,
              "#fdca26"
             ],
             [
              1,
              "#f0f921"
             ]
            ],
            "type": "surface"
           }
          ],
          "table": [
           {
            "cells": {
             "fill": {
              "color": "#EBF0F8"
             },
             "line": {
              "color": "white"
             }
            },
            "header": {
             "fill": {
              "color": "#C8D4E3"
             },
             "line": {
              "color": "white"
             }
            },
            "type": "table"
           }
          ]
         },
         "layout": {
          "annotationdefaults": {
           "arrowcolor": "#2a3f5f",
           "arrowhead": 0,
           "arrowwidth": 1
          },
          "autotypenumbers": "strict",
          "coloraxis": {
           "colorbar": {
            "outlinewidth": 0,
            "ticks": ""
           }
          },
          "colorscale": {
           "diverging": [
            [
             0,
             "#8e0152"
            ],
            [
             0.1,
             "#c51b7d"
            ],
            [
             0.2,
             "#de77ae"
            ],
            [
             0.3,
             "#f1b6da"
            ],
            [
             0.4,
             "#fde0ef"
            ],
            [
             0.5,
             "#f7f7f7"
            ],
            [
             0.6,
             "#e6f5d0"
            ],
            [
             0.7,
             "#b8e186"
            ],
            [
             0.8,
             "#7fbc41"
            ],
            [
             0.9,
             "#4d9221"
            ],
            [
             1,
             "#276419"
            ]
           ],
           "sequential": [
            [
             0,
             "#0d0887"
            ],
            [
             0.1111111111111111,
             "#46039f"
            ],
            [
             0.2222222222222222,
             "#7201a8"
            ],
            [
             0.3333333333333333,
             "#9c179e"
            ],
            [
             0.4444444444444444,
             "#bd3786"
            ],
            [
             0.5555555555555556,
             "#d8576b"
            ],
            [
             0.6666666666666666,
             "#ed7953"
            ],
            [
             0.7777777777777778,
             "#fb9f3a"
            ],
            [
             0.8888888888888888,
             "#fdca26"
            ],
            [
             1,
             "#f0f921"
            ]
           ],
           "sequentialminus": [
            [
             0,
             "#0d0887"
            ],
            [
             0.1111111111111111,
             "#46039f"
            ],
            [
             0.2222222222222222,
             "#7201a8"
            ],
            [
             0.3333333333333333,
             "#9c179e"
            ],
            [
             0.4444444444444444,
             "#bd3786"
            ],
            [
             0.5555555555555556,
             "#d8576b"
            ],
            [
             0.6666666666666666,
             "#ed7953"
            ],
            [
             0.7777777777777778,
             "#fb9f3a"
            ],
            [
             0.8888888888888888,
             "#fdca26"
            ],
            [
             1,
             "#f0f921"
            ]
           ]
          },
          "colorway": [
           "#636efa",
           "#EF553B",
           "#00cc96",
           "#ab63fa",
           "#FFA15A",
           "#19d3f3",
           "#FF6692",
           "#B6E880",
           "#FF97FF",
           "#FECB52"
          ],
          "font": {
           "color": "#2a3f5f"
          },
          "geo": {
           "bgcolor": "white",
           "lakecolor": "white",
           "landcolor": "#E5ECF6",
           "showlakes": true,
           "showland": true,
           "subunitcolor": "white"
          },
          "hoverlabel": {
           "align": "left"
          },
          "hovermode": "closest",
          "mapbox": {
           "style": "light"
          },
          "paper_bgcolor": "white",
          "plot_bgcolor": "#E5ECF6",
          "polar": {
           "angularaxis": {
            "gridcolor": "white",
            "linecolor": "white",
            "ticks": ""
           },
           "bgcolor": "#E5ECF6",
           "radialaxis": {
            "gridcolor": "white",
            "linecolor": "white",
            "ticks": ""
           }
          },
          "scene": {
           "xaxis": {
            "backgroundcolor": "#E5ECF6",
            "gridcolor": "white",
            "gridwidth": 2,
            "linecolor": "white",
            "showbackground": true,
            "ticks": "",
            "zerolinecolor": "white"
           },
           "yaxis": {
            "backgroundcolor": "#E5ECF6",
            "gridcolor": "white",
            "gridwidth": 2,
            "linecolor": "white",
            "showbackground": true,
            "ticks": "",
            "zerolinecolor": "white"
           },
           "zaxis": {
            "backgroundcolor": "#E5ECF6",
            "gridcolor": "white",
            "gridwidth": 2,
            "linecolor": "white",
            "showbackground": true,
            "ticks": "",
            "zerolinecolor": "white"
           }
          },
          "shapedefaults": {
           "line": {
            "color": "#2a3f5f"
           }
          },
          "ternary": {
           "aaxis": {
            "gridcolor": "white",
            "linecolor": "white",
            "ticks": ""
           },
           "baxis": {
            "gridcolor": "white",
            "linecolor": "white",
            "ticks": ""
           },
           "bgcolor": "#E5ECF6",
           "caxis": {
            "gridcolor": "white",
            "linecolor": "white",
            "ticks": ""
           }
          },
          "title": {
           "x": 0.05
          },
          "xaxis": {
           "automargin": true,
           "gridcolor": "white",
           "linecolor": "white",
           "ticks": "",
           "title": {
            "standoff": 15
           },
           "zerolinecolor": "white",
           "zerolinewidth": 2
          },
          "yaxis": {
           "automargin": true,
           "gridcolor": "white",
           "linecolor": "white",
           "ticks": "",
           "title": {
            "standoff": 15
           },
           "zerolinecolor": "white",
           "zerolinewidth": 2
          }
         }
        },
        "title": {
         "text": "Frequency Distribution of Feature date"
        },
        "xaxis": {
         "title": {
          "text": "Categories"
         }
        },
        "yaxis": {
         "title": {
          "text": "Frequency"
         }
        }
       }
      },
      "text/html": [
       "<div>                            <div id=\"38a6c991-63e0-49d1-b293-2fd42e9df4cb\" class=\"plotly-graph-div\" style=\"height:525px; width:100%;\"></div>            <script type=\"text/javascript\">                require([\"plotly\"], function(Plotly) {                    window.PLOTLYENV=window.PLOTLYENV || {};                                    if (document.getElementById(\"38a6c991-63e0-49d1-b293-2fd42e9df4cb\")) {                    Plotly.newPlot(                        \"38a6c991-63e0-49d1-b293-2fd42e9df4cb\",                        [{\"x\":[0,3,2,6,4,5,1],\"y\":[10,9,7,6,5,5,5],\"type\":\"bar\"}],                        {\"template\":{\"data\":{\"histogram2dcontour\":[{\"type\":\"histogram2dcontour\",\"colorbar\":{\"outlinewidth\":0,\"ticks\":\"\"},\"colorscale\":[[0.0,\"#0d0887\"],[0.1111111111111111,\"#46039f\"],[0.2222222222222222,\"#7201a8\"],[0.3333333333333333,\"#9c179e\"],[0.4444444444444444,\"#bd3786\"],[0.5555555555555556,\"#d8576b\"],[0.6666666666666666,\"#ed7953\"],[0.7777777777777778,\"#fb9f3a\"],[0.8888888888888888,\"#fdca26\"],[1.0,\"#f0f921\"]]}],\"choropleth\":[{\"type\":\"choropleth\",\"colorbar\":{\"outlinewidth\":0,\"ticks\":\"\"}}],\"histogram2d\":[{\"type\":\"histogram2d\",\"colorbar\":{\"outlinewidth\":0,\"ticks\":\"\"},\"colorscale\":[[0.0,\"#0d0887\"],[0.1111111111111111,\"#46039f\"],[0.2222222222222222,\"#7201a8\"],[0.3333333333333333,\"#9c179e\"],[0.4444444444444444,\"#bd3786\"],[0.5555555555555556,\"#d8576b\"],[0.6666666666666666,\"#ed7953\"],[0.7777777777777778,\"#fb9f3a\"],[0.8888888888888888,\"#fdca26\"],[1.0,\"#f0f921\"]]}],\"heatmap\":[{\"type\":\"heatmap\",\"colorbar\":{\"outlinewidth\":0,\"ticks\":\"\"},\"colorscale\":[[0.0,\"#0d0887\"],[0.1111111111111111,\"#46039f\"],[0.2222222222222222,\"#7201a8\"],[0.3333333333333333,\"#9c179e\"],[0.4444444444444444,\"#bd3786\"],[0.5555555555555556,\"#d8576b\"],[0.6666666666666666,\"#ed7953\"],[0.7777777777777778,\"#fb9f3a\"],[0.8888888888888888,\"#fdca26\"],[1.0,\"#f0f921\"]]}],\"heatmapgl\":[{\"type\":\"heatmapgl\",\"colorbar\":{\"outlinewidth\":0,\"ticks\":\"\"},\"colorscale\":[[0.0,\"#0d0887\"],[0.1111111111111111,\"#46039f\"],[0.2222222222222222,\"#7201a8\"],[0.3333333333333333,\"#9c179e\"],[0.4444444444444444,\"#bd3786\"],[0.5555555555555556,\"#d8576b\"],[0.6666666666666666,\"#ed7953\"],[0.7777777777777778,\"#fb9f3a\"],[0.8888888888888888,\"#fdca26\"],[1.0,\"#f0f921\"]]}],\"contourcarpet\":[{\"type\":\"contourcarpet\",\"colorbar\":{\"outlinewidth\":0,\"ticks\":\"\"}}],\"contour\":[{\"type\":\"contour\",\"colorbar\":{\"outlinewidth\":0,\"ticks\":\"\"},\"colorscale\":[[0.0,\"#0d0887\"],[0.1111111111111111,\"#46039f\"],[0.2222222222222222,\"#7201a8\"],[0.3333333333333333,\"#9c179e\"],[0.4444444444444444,\"#bd3786\"],[0.5555555555555556,\"#d8576b\"],[0.6666666666666666,\"#ed7953\"],[0.7777777777777778,\"#fb9f3a\"],[0.8888888888888888,\"#fdca26\"],[1.0,\"#f0f921\"]]}],\"surface\":[{\"type\":\"surface\",\"colorbar\":{\"outlinewidth\":0,\"ticks\":\"\"},\"colorscale\":[[0.0,\"#0d0887\"],[0.1111111111111111,\"#46039f\"],[0.2222222222222222,\"#7201a8\"],[0.3333333333333333,\"#9c179e\"],[0.4444444444444444,\"#bd3786\"],[0.5555555555555556,\"#d8576b\"],[0.6666666666666666,\"#ed7953\"],[0.7777777777777778,\"#fb9f3a\"],[0.8888888888888888,\"#fdca26\"],[1.0,\"#f0f921\"]]}],\"mesh3d\":[{\"type\":\"mesh3d\",\"colorbar\":{\"outlinewidth\":0,\"ticks\":\"\"}}],\"scatter\":[{\"fillpattern\":{\"fillmode\":\"overlay\",\"size\":10,\"solidity\":0.2},\"type\":\"scatter\"}],\"parcoords\":[{\"type\":\"parcoords\",\"line\":{\"colorbar\":{\"outlinewidth\":0,\"ticks\":\"\"}}}],\"scatterpolargl\":[{\"type\":\"scatterpolargl\",\"marker\":{\"colorbar\":{\"outlinewidth\":0,\"ticks\":\"\"}}}],\"bar\":[{\"error_x\":{\"color\":\"#2a3f5f\"},\"error_y\":{\"color\":\"#2a3f5f\"},\"marker\":{\"line\":{\"color\":\"#E5ECF6\",\"width\":0.5},\"pattern\":{\"fillmode\":\"overlay\",\"size\":10,\"solidity\":0.2}},\"type\":\"bar\"}],\"scattergeo\":[{\"type\":\"scattergeo\",\"marker\":{\"colorbar\":{\"outlinewidth\":0,\"ticks\":\"\"}}}],\"scatterpolar\":[{\"type\":\"scatterpolar\",\"marker\":{\"colorbar\":{\"outlinewidth\":0,\"ticks\":\"\"}}}],\"histogram\":[{\"marker\":{\"pattern\":{\"fillmode\":\"overlay\",\"size\":10,\"solidity\":0.2}},\"type\":\"histogram\"}],\"scattergl\":[{\"type\":\"scattergl\",\"marker\":{\"colorbar\":{\"outlinewidth\":0,\"ticks\":\"\"}}}],\"scatter3d\":[{\"type\":\"scatter3d\",\"line\":{\"colorbar\":{\"outlinewidth\":0,\"ticks\":\"\"}},\"marker\":{\"colorbar\":{\"outlinewidth\":0,\"ticks\":\"\"}}}],\"scattermapbox\":[{\"type\":\"scattermapbox\",\"marker\":{\"colorbar\":{\"outlinewidth\":0,\"ticks\":\"\"}}}],\"scatterternary\":[{\"type\":\"scatterternary\",\"marker\":{\"colorbar\":{\"outlinewidth\":0,\"ticks\":\"\"}}}],\"scattercarpet\":[{\"type\":\"scattercarpet\",\"marker\":{\"colorbar\":{\"outlinewidth\":0,\"ticks\":\"\"}}}],\"carpet\":[{\"aaxis\":{\"endlinecolor\":\"#2a3f5f\",\"gridcolor\":\"white\",\"linecolor\":\"white\",\"minorgridcolor\":\"white\",\"startlinecolor\":\"#2a3f5f\"},\"baxis\":{\"endlinecolor\":\"#2a3f5f\",\"gridcolor\":\"white\",\"linecolor\":\"white\",\"minorgridcolor\":\"white\",\"startlinecolor\":\"#2a3f5f\"},\"type\":\"carpet\"}],\"table\":[{\"cells\":{\"fill\":{\"color\":\"#EBF0F8\"},\"line\":{\"color\":\"white\"}},\"header\":{\"fill\":{\"color\":\"#C8D4E3\"},\"line\":{\"color\":\"white\"}},\"type\":\"table\"}],\"barpolar\":[{\"marker\":{\"line\":{\"color\":\"#E5ECF6\",\"width\":0.5},\"pattern\":{\"fillmode\":\"overlay\",\"size\":10,\"solidity\":0.2}},\"type\":\"barpolar\"}],\"pie\":[{\"automargin\":true,\"type\":\"pie\"}]},\"layout\":{\"autotypenumbers\":\"strict\",\"colorway\":[\"#636efa\",\"#EF553B\",\"#00cc96\",\"#ab63fa\",\"#FFA15A\",\"#19d3f3\",\"#FF6692\",\"#B6E880\",\"#FF97FF\",\"#FECB52\"],\"font\":{\"color\":\"#2a3f5f\"},\"hovermode\":\"closest\",\"hoverlabel\":{\"align\":\"left\"},\"paper_bgcolor\":\"white\",\"plot_bgcolor\":\"#E5ECF6\",\"polar\":{\"bgcolor\":\"#E5ECF6\",\"angularaxis\":{\"gridcolor\":\"white\",\"linecolor\":\"white\",\"ticks\":\"\"},\"radialaxis\":{\"gridcolor\":\"white\",\"linecolor\":\"white\",\"ticks\":\"\"}},\"ternary\":{\"bgcolor\":\"#E5ECF6\",\"aaxis\":{\"gridcolor\":\"white\",\"linecolor\":\"white\",\"ticks\":\"\"},\"baxis\":{\"gridcolor\":\"white\",\"linecolor\":\"white\",\"ticks\":\"\"},\"caxis\":{\"gridcolor\":\"white\",\"linecolor\":\"white\",\"ticks\":\"\"}},\"coloraxis\":{\"colorbar\":{\"outlinewidth\":0,\"ticks\":\"\"}},\"colorscale\":{\"sequential\":[[0.0,\"#0d0887\"],[0.1111111111111111,\"#46039f\"],[0.2222222222222222,\"#7201a8\"],[0.3333333333333333,\"#9c179e\"],[0.4444444444444444,\"#bd3786\"],[0.5555555555555556,\"#d8576b\"],[0.6666666666666666,\"#ed7953\"],[0.7777777777777778,\"#fb9f3a\"],[0.8888888888888888,\"#fdca26\"],[1.0,\"#f0f921\"]],\"sequentialminus\":[[0.0,\"#0d0887\"],[0.1111111111111111,\"#46039f\"],[0.2222222222222222,\"#7201a8\"],[0.3333333333333333,\"#9c179e\"],[0.4444444444444444,\"#bd3786\"],[0.5555555555555556,\"#d8576b\"],[0.6666666666666666,\"#ed7953\"],[0.7777777777777778,\"#fb9f3a\"],[0.8888888888888888,\"#fdca26\"],[1.0,\"#f0f921\"]],\"diverging\":[[0,\"#8e0152\"],[0.1,\"#c51b7d\"],[0.2,\"#de77ae\"],[0.3,\"#f1b6da\"],[0.4,\"#fde0ef\"],[0.5,\"#f7f7f7\"],[0.6,\"#e6f5d0\"],[0.7,\"#b8e186\"],[0.8,\"#7fbc41\"],[0.9,\"#4d9221\"],[1,\"#276419\"]]},\"xaxis\":{\"gridcolor\":\"white\",\"linecolor\":\"white\",\"ticks\":\"\",\"title\":{\"standoff\":15},\"zerolinecolor\":\"white\",\"automargin\":true,\"zerolinewidth\":2},\"yaxis\":{\"gridcolor\":\"white\",\"linecolor\":\"white\",\"ticks\":\"\",\"title\":{\"standoff\":15},\"zerolinecolor\":\"white\",\"automargin\":true,\"zerolinewidth\":2},\"scene\":{\"xaxis\":{\"backgroundcolor\":\"#E5ECF6\",\"gridcolor\":\"white\",\"linecolor\":\"white\",\"showbackground\":true,\"ticks\":\"\",\"zerolinecolor\":\"white\",\"gridwidth\":2},\"yaxis\":{\"backgroundcolor\":\"#E5ECF6\",\"gridcolor\":\"white\",\"linecolor\":\"white\",\"showbackground\":true,\"ticks\":\"\",\"zerolinecolor\":\"white\",\"gridwidth\":2},\"zaxis\":{\"backgroundcolor\":\"#E5ECF6\",\"gridcolor\":\"white\",\"linecolor\":\"white\",\"showbackground\":true,\"ticks\":\"\",\"zerolinecolor\":\"white\",\"gridwidth\":2}},\"shapedefaults\":{\"line\":{\"color\":\"#2a3f5f\"}},\"annotationdefaults\":{\"arrowcolor\":\"#2a3f5f\",\"arrowhead\":0,\"arrowwidth\":1},\"geo\":{\"bgcolor\":\"white\",\"landcolor\":\"#E5ECF6\",\"subunitcolor\":\"white\",\"showland\":true,\"showlakes\":true,\"lakecolor\":\"white\"},\"title\":{\"x\":0.05},\"mapbox\":{\"style\":\"light\"}}},\"title\":{\"text\":\"Frequency Distribution of Feature date\"},\"xaxis\":{\"title\":{\"text\":\"Categories\"}},\"yaxis\":{\"title\":{\"text\":\"Frequency\"}}},                        {\"responsive\": true}                    ).then(function(){\n",
       "                            \n",
       "var gd = document.getElementById('38a6c991-63e0-49d1-b293-2fd42e9df4cb');\n",
       "var x = new MutationObserver(function (mutations, observer) {{\n",
       "        var display = window.getComputedStyle(gd).display;\n",
       "        if (!display || display === 'none') {{\n",
       "            console.log([gd, 'removed!']);\n",
       "            Plotly.purge(gd);\n",
       "            observer.disconnect();\n",
       "        }}\n",
       "}});\n",
       "\n",
       "// Listen for the removal of the full notebook cells\n",
       "var notebookContainer = gd.closest('#notebook-container');\n",
       "if (notebookContainer) {{\n",
       "    x.observe(notebookContainer, {childList: true});\n",
       "}}\n",
       "\n",
       "// Listen for the clearing of the current output cell\n",
       "var outputEl = gd.closest('.output');\n",
       "if (outputEl) {{\n",
       "    x.observe(outputEl, {childList: true});\n",
       "}}\n",
       "\n",
       "                        })                };                });            </script>        </div>"
      ]
     },
     "metadata": {},
     "output_type": "display_data"
    },
    {
     "data": {
      "application/vnd.plotly.v1+json": {
       "config": {
        "plotlyServerURL": "https://plot.ly"
       },
       "data": [
        {
         "type": "bar",
         "x": [
          1,
          0
         ],
         "y": [
          25,
          22
         ]
        }
       ],
       "layout": {
        "template": {
         "data": {
          "bar": [
           {
            "error_x": {
             "color": "#2a3f5f"
            },
            "error_y": {
             "color": "#2a3f5f"
            },
            "marker": {
             "line": {
              "color": "#E5ECF6",
              "width": 0.5
             },
             "pattern": {
              "fillmode": "overlay",
              "size": 10,
              "solidity": 0.2
             }
            },
            "type": "bar"
           }
          ],
          "barpolar": [
           {
            "marker": {
             "line": {
              "color": "#E5ECF6",
              "width": 0.5
             },
             "pattern": {
              "fillmode": "overlay",
              "size": 10,
              "solidity": 0.2
             }
            },
            "type": "barpolar"
           }
          ],
          "carpet": [
           {
            "aaxis": {
             "endlinecolor": "#2a3f5f",
             "gridcolor": "white",
             "linecolor": "white",
             "minorgridcolor": "white",
             "startlinecolor": "#2a3f5f"
            },
            "baxis": {
             "endlinecolor": "#2a3f5f",
             "gridcolor": "white",
             "linecolor": "white",
             "minorgridcolor": "white",
             "startlinecolor": "#2a3f5f"
            },
            "type": "carpet"
           }
          ],
          "choropleth": [
           {
            "colorbar": {
             "outlinewidth": 0,
             "ticks": ""
            },
            "type": "choropleth"
           }
          ],
          "contour": [
           {
            "colorbar": {
             "outlinewidth": 0,
             "ticks": ""
            },
            "colorscale": [
             [
              0,
              "#0d0887"
             ],
             [
              0.1111111111111111,
              "#46039f"
             ],
             [
              0.2222222222222222,
              "#7201a8"
             ],
             [
              0.3333333333333333,
              "#9c179e"
             ],
             [
              0.4444444444444444,
              "#bd3786"
             ],
             [
              0.5555555555555556,
              "#d8576b"
             ],
             [
              0.6666666666666666,
              "#ed7953"
             ],
             [
              0.7777777777777778,
              "#fb9f3a"
             ],
             [
              0.8888888888888888,
              "#fdca26"
             ],
             [
              1,
              "#f0f921"
             ]
            ],
            "type": "contour"
           }
          ],
          "contourcarpet": [
           {
            "colorbar": {
             "outlinewidth": 0,
             "ticks": ""
            },
            "type": "contourcarpet"
           }
          ],
          "heatmap": [
           {
            "colorbar": {
             "outlinewidth": 0,
             "ticks": ""
            },
            "colorscale": [
             [
              0,
              "#0d0887"
             ],
             [
              0.1111111111111111,
              "#46039f"
             ],
             [
              0.2222222222222222,
              "#7201a8"
             ],
             [
              0.3333333333333333,
              "#9c179e"
             ],
             [
              0.4444444444444444,
              "#bd3786"
             ],
             [
              0.5555555555555556,
              "#d8576b"
             ],
             [
              0.6666666666666666,
              "#ed7953"
             ],
             [
              0.7777777777777778,
              "#fb9f3a"
             ],
             [
              0.8888888888888888,
              "#fdca26"
             ],
             [
              1,
              "#f0f921"
             ]
            ],
            "type": "heatmap"
           }
          ],
          "heatmapgl": [
           {
            "colorbar": {
             "outlinewidth": 0,
             "ticks": ""
            },
            "colorscale": [
             [
              0,
              "#0d0887"
             ],
             [
              0.1111111111111111,
              "#46039f"
             ],
             [
              0.2222222222222222,
              "#7201a8"
             ],
             [
              0.3333333333333333,
              "#9c179e"
             ],
             [
              0.4444444444444444,
              "#bd3786"
             ],
             [
              0.5555555555555556,
              "#d8576b"
             ],
             [
              0.6666666666666666,
              "#ed7953"
             ],
             [
              0.7777777777777778,
              "#fb9f3a"
             ],
             [
              0.8888888888888888,
              "#fdca26"
             ],
             [
              1,
              "#f0f921"
             ]
            ],
            "type": "heatmapgl"
           }
          ],
          "histogram": [
           {
            "marker": {
             "pattern": {
              "fillmode": "overlay",
              "size": 10,
              "solidity": 0.2
             }
            },
            "type": "histogram"
           }
          ],
          "histogram2d": [
           {
            "colorbar": {
             "outlinewidth": 0,
             "ticks": ""
            },
            "colorscale": [
             [
              0,
              "#0d0887"
             ],
             [
              0.1111111111111111,
              "#46039f"
             ],
             [
              0.2222222222222222,
              "#7201a8"
             ],
             [
              0.3333333333333333,
              "#9c179e"
             ],
             [
              0.4444444444444444,
              "#bd3786"
             ],
             [
              0.5555555555555556,
              "#d8576b"
             ],
             [
              0.6666666666666666,
              "#ed7953"
             ],
             [
              0.7777777777777778,
              "#fb9f3a"
             ],
             [
              0.8888888888888888,
              "#fdca26"
             ],
             [
              1,
              "#f0f921"
             ]
            ],
            "type": "histogram2d"
           }
          ],
          "histogram2dcontour": [
           {
            "colorbar": {
             "outlinewidth": 0,
             "ticks": ""
            },
            "colorscale": [
             [
              0,
              "#0d0887"
             ],
             [
              0.1111111111111111,
              "#46039f"
             ],
             [
              0.2222222222222222,
              "#7201a8"
             ],
             [
              0.3333333333333333,
              "#9c179e"
             ],
             [
              0.4444444444444444,
              "#bd3786"
             ],
             [
              0.5555555555555556,
              "#d8576b"
             ],
             [
              0.6666666666666666,
              "#ed7953"
             ],
             [
              0.7777777777777778,
              "#fb9f3a"
             ],
             [
              0.8888888888888888,
              "#fdca26"
             ],
             [
              1,
              "#f0f921"
             ]
            ],
            "type": "histogram2dcontour"
           }
          ],
          "mesh3d": [
           {
            "colorbar": {
             "outlinewidth": 0,
             "ticks": ""
            },
            "type": "mesh3d"
           }
          ],
          "parcoords": [
           {
            "line": {
             "colorbar": {
              "outlinewidth": 0,
              "ticks": ""
             }
            },
            "type": "parcoords"
           }
          ],
          "pie": [
           {
            "automargin": true,
            "type": "pie"
           }
          ],
          "scatter": [
           {
            "fillpattern": {
             "fillmode": "overlay",
             "size": 10,
             "solidity": 0.2
            },
            "type": "scatter"
           }
          ],
          "scatter3d": [
           {
            "line": {
             "colorbar": {
              "outlinewidth": 0,
              "ticks": ""
             }
            },
            "marker": {
             "colorbar": {
              "outlinewidth": 0,
              "ticks": ""
             }
            },
            "type": "scatter3d"
           }
          ],
          "scattercarpet": [
           {
            "marker": {
             "colorbar": {
              "outlinewidth": 0,
              "ticks": ""
             }
            },
            "type": "scattercarpet"
           }
          ],
          "scattergeo": [
           {
            "marker": {
             "colorbar": {
              "outlinewidth": 0,
              "ticks": ""
             }
            },
            "type": "scattergeo"
           }
          ],
          "scattergl": [
           {
            "marker": {
             "colorbar": {
              "outlinewidth": 0,
              "ticks": ""
             }
            },
            "type": "scattergl"
           }
          ],
          "scattermapbox": [
           {
            "marker": {
             "colorbar": {
              "outlinewidth": 0,
              "ticks": ""
             }
            },
            "type": "scattermapbox"
           }
          ],
          "scatterpolar": [
           {
            "marker": {
             "colorbar": {
              "outlinewidth": 0,
              "ticks": ""
             }
            },
            "type": "scatterpolar"
           }
          ],
          "scatterpolargl": [
           {
            "marker": {
             "colorbar": {
              "outlinewidth": 0,
              "ticks": ""
             }
            },
            "type": "scatterpolargl"
           }
          ],
          "scatterternary": [
           {
            "marker": {
             "colorbar": {
              "outlinewidth": 0,
              "ticks": ""
             }
            },
            "type": "scatterternary"
           }
          ],
          "surface": [
           {
            "colorbar": {
             "outlinewidth": 0,
             "ticks": ""
            },
            "colorscale": [
             [
              0,
              "#0d0887"
             ],
             [
              0.1111111111111111,
              "#46039f"
             ],
             [
              0.2222222222222222,
              "#7201a8"
             ],
             [
              0.3333333333333333,
              "#9c179e"
             ],
             [
              0.4444444444444444,
              "#bd3786"
             ],
             [
              0.5555555555555556,
              "#d8576b"
             ],
             [
              0.6666666666666666,
              "#ed7953"
             ],
             [
              0.7777777777777778,
              "#fb9f3a"
             ],
             [
              0.8888888888888888,
              "#fdca26"
             ],
             [
              1,
              "#f0f921"
             ]
            ],
            "type": "surface"
           }
          ],
          "table": [
           {
            "cells": {
             "fill": {
              "color": "#EBF0F8"
             },
             "line": {
              "color": "white"
             }
            },
            "header": {
             "fill": {
              "color": "#C8D4E3"
             },
             "line": {
              "color": "white"
             }
            },
            "type": "table"
           }
          ]
         },
         "layout": {
          "annotationdefaults": {
           "arrowcolor": "#2a3f5f",
           "arrowhead": 0,
           "arrowwidth": 1
          },
          "autotypenumbers": "strict",
          "coloraxis": {
           "colorbar": {
            "outlinewidth": 0,
            "ticks": ""
           }
          },
          "colorscale": {
           "diverging": [
            [
             0,
             "#8e0152"
            ],
            [
             0.1,
             "#c51b7d"
            ],
            [
             0.2,
             "#de77ae"
            ],
            [
             0.3,
             "#f1b6da"
            ],
            [
             0.4,
             "#fde0ef"
            ],
            [
             0.5,
             "#f7f7f7"
            ],
            [
             0.6,
             "#e6f5d0"
            ],
            [
             0.7,
             "#b8e186"
            ],
            [
             0.8,
             "#7fbc41"
            ],
            [
             0.9,
             "#4d9221"
            ],
            [
             1,
             "#276419"
            ]
           ],
           "sequential": [
            [
             0,
             "#0d0887"
            ],
            [
             0.1111111111111111,
             "#46039f"
            ],
            [
             0.2222222222222222,
             "#7201a8"
            ],
            [
             0.3333333333333333,
             "#9c179e"
            ],
            [
             0.4444444444444444,
             "#bd3786"
            ],
            [
             0.5555555555555556,
             "#d8576b"
            ],
            [
             0.6666666666666666,
             "#ed7953"
            ],
            [
             0.7777777777777778,
             "#fb9f3a"
            ],
            [
             0.8888888888888888,
             "#fdca26"
            ],
            [
             1,
             "#f0f921"
            ]
           ],
           "sequentialminus": [
            [
             0,
             "#0d0887"
            ],
            [
             0.1111111111111111,
             "#46039f"
            ],
            [
             0.2222222222222222,
             "#7201a8"
            ],
            [
             0.3333333333333333,
             "#9c179e"
            ],
            [
             0.4444444444444444,
             "#bd3786"
            ],
            [
             0.5555555555555556,
             "#d8576b"
            ],
            [
             0.6666666666666666,
             "#ed7953"
            ],
            [
             0.7777777777777778,
             "#fb9f3a"
            ],
            [
             0.8888888888888888,
             "#fdca26"
            ],
            [
             1,
             "#f0f921"
            ]
           ]
          },
          "colorway": [
           "#636efa",
           "#EF553B",
           "#00cc96",
           "#ab63fa",
           "#FFA15A",
           "#19d3f3",
           "#FF6692",
           "#B6E880",
           "#FF97FF",
           "#FECB52"
          ],
          "font": {
           "color": "#2a3f5f"
          },
          "geo": {
           "bgcolor": "white",
           "lakecolor": "white",
           "landcolor": "#E5ECF6",
           "showlakes": true,
           "showland": true,
           "subunitcolor": "white"
          },
          "hoverlabel": {
           "align": "left"
          },
          "hovermode": "closest",
          "mapbox": {
           "style": "light"
          },
          "paper_bgcolor": "white",
          "plot_bgcolor": "#E5ECF6",
          "polar": {
           "angularaxis": {
            "gridcolor": "white",
            "linecolor": "white",
            "ticks": ""
           },
           "bgcolor": "#E5ECF6",
           "radialaxis": {
            "gridcolor": "white",
            "linecolor": "white",
            "ticks": ""
           }
          },
          "scene": {
           "xaxis": {
            "backgroundcolor": "#E5ECF6",
            "gridcolor": "white",
            "gridwidth": 2,
            "linecolor": "white",
            "showbackground": true,
            "ticks": "",
            "zerolinecolor": "white"
           },
           "yaxis": {
            "backgroundcolor": "#E5ECF6",
            "gridcolor": "white",
            "gridwidth": 2,
            "linecolor": "white",
            "showbackground": true,
            "ticks": "",
            "zerolinecolor": "white"
           },
           "zaxis": {
            "backgroundcolor": "#E5ECF6",
            "gridcolor": "white",
            "gridwidth": 2,
            "linecolor": "white",
            "showbackground": true,
            "ticks": "",
            "zerolinecolor": "white"
           }
          },
          "shapedefaults": {
           "line": {
            "color": "#2a3f5f"
           }
          },
          "ternary": {
           "aaxis": {
            "gridcolor": "white",
            "linecolor": "white",
            "ticks": ""
           },
           "baxis": {
            "gridcolor": "white",
            "linecolor": "white",
            "ticks": ""
           },
           "bgcolor": "#E5ECF6",
           "caxis": {
            "gridcolor": "white",
            "linecolor": "white",
            "ticks": ""
           }
          },
          "title": {
           "x": 0.05
          },
          "xaxis": {
           "automargin": true,
           "gridcolor": "white",
           "linecolor": "white",
           "ticks": "",
           "title": {
            "standoff": 15
           },
           "zerolinecolor": "white",
           "zerolinewidth": 2
          },
          "yaxis": {
           "automargin": true,
           "gridcolor": "white",
           "linecolor": "white",
           "ticks": "",
           "title": {
            "standoff": 15
           },
           "zerolinecolor": "white",
           "zerolinewidth": 2
          }
         }
        },
        "title": {
         "text": "Frequency Distribution of Feature plant-stand"
        },
        "xaxis": {
         "title": {
          "text": "Categories"
         }
        },
        "yaxis": {
         "title": {
          "text": "Frequency"
         }
        }
       }
      },
      "text/html": [
       "<div>                            <div id=\"7c2226e8-fc75-47bc-8ba3-461e168e03e6\" class=\"plotly-graph-div\" style=\"height:525px; width:100%;\"></div>            <script type=\"text/javascript\">                require([\"plotly\"], function(Plotly) {                    window.PLOTLYENV=window.PLOTLYENV || {};                                    if (document.getElementById(\"7c2226e8-fc75-47bc-8ba3-461e168e03e6\")) {                    Plotly.newPlot(                        \"7c2226e8-fc75-47bc-8ba3-461e168e03e6\",                        [{\"x\":[1,0],\"y\":[25,22],\"type\":\"bar\"}],                        {\"template\":{\"data\":{\"histogram2dcontour\":[{\"type\":\"histogram2dcontour\",\"colorbar\":{\"outlinewidth\":0,\"ticks\":\"\"},\"colorscale\":[[0.0,\"#0d0887\"],[0.1111111111111111,\"#46039f\"],[0.2222222222222222,\"#7201a8\"],[0.3333333333333333,\"#9c179e\"],[0.4444444444444444,\"#bd3786\"],[0.5555555555555556,\"#d8576b\"],[0.6666666666666666,\"#ed7953\"],[0.7777777777777778,\"#fb9f3a\"],[0.8888888888888888,\"#fdca26\"],[1.0,\"#f0f921\"]]}],\"choropleth\":[{\"type\":\"choropleth\",\"colorbar\":{\"outlinewidth\":0,\"ticks\":\"\"}}],\"histogram2d\":[{\"type\":\"histogram2d\",\"colorbar\":{\"outlinewidth\":0,\"ticks\":\"\"},\"colorscale\":[[0.0,\"#0d0887\"],[0.1111111111111111,\"#46039f\"],[0.2222222222222222,\"#7201a8\"],[0.3333333333333333,\"#9c179e\"],[0.4444444444444444,\"#bd3786\"],[0.5555555555555556,\"#d8576b\"],[0.6666666666666666,\"#ed7953\"],[0.7777777777777778,\"#fb9f3a\"],[0.8888888888888888,\"#fdca26\"],[1.0,\"#f0f921\"]]}],\"heatmap\":[{\"type\":\"heatmap\",\"colorbar\":{\"outlinewidth\":0,\"ticks\":\"\"},\"colorscale\":[[0.0,\"#0d0887\"],[0.1111111111111111,\"#46039f\"],[0.2222222222222222,\"#7201a8\"],[0.3333333333333333,\"#9c179e\"],[0.4444444444444444,\"#bd3786\"],[0.5555555555555556,\"#d8576b\"],[0.6666666666666666,\"#ed7953\"],[0.7777777777777778,\"#fb9f3a\"],[0.8888888888888888,\"#fdca26\"],[1.0,\"#f0f921\"]]}],\"heatmapgl\":[{\"type\":\"heatmapgl\",\"colorbar\":{\"outlinewidth\":0,\"ticks\":\"\"},\"colorscale\":[[0.0,\"#0d0887\"],[0.1111111111111111,\"#46039f\"],[0.2222222222222222,\"#7201a8\"],[0.3333333333333333,\"#9c179e\"],[0.4444444444444444,\"#bd3786\"],[0.5555555555555556,\"#d8576b\"],[0.6666666666666666,\"#ed7953\"],[0.7777777777777778,\"#fb9f3a\"],[0.8888888888888888,\"#fdca26\"],[1.0,\"#f0f921\"]]}],\"contourcarpet\":[{\"type\":\"contourcarpet\",\"colorbar\":{\"outlinewidth\":0,\"ticks\":\"\"}}],\"contour\":[{\"type\":\"contour\",\"colorbar\":{\"outlinewidth\":0,\"ticks\":\"\"},\"colorscale\":[[0.0,\"#0d0887\"],[0.1111111111111111,\"#46039f\"],[0.2222222222222222,\"#7201a8\"],[0.3333333333333333,\"#9c179e\"],[0.4444444444444444,\"#bd3786\"],[0.5555555555555556,\"#d8576b\"],[0.6666666666666666,\"#ed7953\"],[0.7777777777777778,\"#fb9f3a\"],[0.8888888888888888,\"#fdca26\"],[1.0,\"#f0f921\"]]}],\"surface\":[{\"type\":\"surface\",\"colorbar\":{\"outlinewidth\":0,\"ticks\":\"\"},\"colorscale\":[[0.0,\"#0d0887\"],[0.1111111111111111,\"#46039f\"],[0.2222222222222222,\"#7201a8\"],[0.3333333333333333,\"#9c179e\"],[0.4444444444444444,\"#bd3786\"],[0.5555555555555556,\"#d8576b\"],[0.6666666666666666,\"#ed7953\"],[0.7777777777777778,\"#fb9f3a\"],[0.8888888888888888,\"#fdca26\"],[1.0,\"#f0f921\"]]}],\"mesh3d\":[{\"type\":\"mesh3d\",\"colorbar\":{\"outlinewidth\":0,\"ticks\":\"\"}}],\"scatter\":[{\"fillpattern\":{\"fillmode\":\"overlay\",\"size\":10,\"solidity\":0.2},\"type\":\"scatter\"}],\"parcoords\":[{\"type\":\"parcoords\",\"line\":{\"colorbar\":{\"outlinewidth\":0,\"ticks\":\"\"}}}],\"scatterpolargl\":[{\"type\":\"scatterpolargl\",\"marker\":{\"colorbar\":{\"outlinewidth\":0,\"ticks\":\"\"}}}],\"bar\":[{\"error_x\":{\"color\":\"#2a3f5f\"},\"error_y\":{\"color\":\"#2a3f5f\"},\"marker\":{\"line\":{\"color\":\"#E5ECF6\",\"width\":0.5},\"pattern\":{\"fillmode\":\"overlay\",\"size\":10,\"solidity\":0.2}},\"type\":\"bar\"}],\"scattergeo\":[{\"type\":\"scattergeo\",\"marker\":{\"colorbar\":{\"outlinewidth\":0,\"ticks\":\"\"}}}],\"scatterpolar\":[{\"type\":\"scatterpolar\",\"marker\":{\"colorbar\":{\"outlinewidth\":0,\"ticks\":\"\"}}}],\"histogram\":[{\"marker\":{\"pattern\":{\"fillmode\":\"overlay\",\"size\":10,\"solidity\":0.2}},\"type\":\"histogram\"}],\"scattergl\":[{\"type\":\"scattergl\",\"marker\":{\"colorbar\":{\"outlinewidth\":0,\"ticks\":\"\"}}}],\"scatter3d\":[{\"type\":\"scatter3d\",\"line\":{\"colorbar\":{\"outlinewidth\":0,\"ticks\":\"\"}},\"marker\":{\"colorbar\":{\"outlinewidth\":0,\"ticks\":\"\"}}}],\"scattermapbox\":[{\"type\":\"scattermapbox\",\"marker\":{\"colorbar\":{\"outlinewidth\":0,\"ticks\":\"\"}}}],\"scatterternary\":[{\"type\":\"scatterternary\",\"marker\":{\"colorbar\":{\"outlinewidth\":0,\"ticks\":\"\"}}}],\"scattercarpet\":[{\"type\":\"scattercarpet\",\"marker\":{\"colorbar\":{\"outlinewidth\":0,\"ticks\":\"\"}}}],\"carpet\":[{\"aaxis\":{\"endlinecolor\":\"#2a3f5f\",\"gridcolor\":\"white\",\"linecolor\":\"white\",\"minorgridcolor\":\"white\",\"startlinecolor\":\"#2a3f5f\"},\"baxis\":{\"endlinecolor\":\"#2a3f5f\",\"gridcolor\":\"white\",\"linecolor\":\"white\",\"minorgridcolor\":\"white\",\"startlinecolor\":\"#2a3f5f\"},\"type\":\"carpet\"}],\"table\":[{\"cells\":{\"fill\":{\"color\":\"#EBF0F8\"},\"line\":{\"color\":\"white\"}},\"header\":{\"fill\":{\"color\":\"#C8D4E3\"},\"line\":{\"color\":\"white\"}},\"type\":\"table\"}],\"barpolar\":[{\"marker\":{\"line\":{\"color\":\"#E5ECF6\",\"width\":0.5},\"pattern\":{\"fillmode\":\"overlay\",\"size\":10,\"solidity\":0.2}},\"type\":\"barpolar\"}],\"pie\":[{\"automargin\":true,\"type\":\"pie\"}]},\"layout\":{\"autotypenumbers\":\"strict\",\"colorway\":[\"#636efa\",\"#EF553B\",\"#00cc96\",\"#ab63fa\",\"#FFA15A\",\"#19d3f3\",\"#FF6692\",\"#B6E880\",\"#FF97FF\",\"#FECB52\"],\"font\":{\"color\":\"#2a3f5f\"},\"hovermode\":\"closest\",\"hoverlabel\":{\"align\":\"left\"},\"paper_bgcolor\":\"white\",\"plot_bgcolor\":\"#E5ECF6\",\"polar\":{\"bgcolor\":\"#E5ECF6\",\"angularaxis\":{\"gridcolor\":\"white\",\"linecolor\":\"white\",\"ticks\":\"\"},\"radialaxis\":{\"gridcolor\":\"white\",\"linecolor\":\"white\",\"ticks\":\"\"}},\"ternary\":{\"bgcolor\":\"#E5ECF6\",\"aaxis\":{\"gridcolor\":\"white\",\"linecolor\":\"white\",\"ticks\":\"\"},\"baxis\":{\"gridcolor\":\"white\",\"linecolor\":\"white\",\"ticks\":\"\"},\"caxis\":{\"gridcolor\":\"white\",\"linecolor\":\"white\",\"ticks\":\"\"}},\"coloraxis\":{\"colorbar\":{\"outlinewidth\":0,\"ticks\":\"\"}},\"colorscale\":{\"sequential\":[[0.0,\"#0d0887\"],[0.1111111111111111,\"#46039f\"],[0.2222222222222222,\"#7201a8\"],[0.3333333333333333,\"#9c179e\"],[0.4444444444444444,\"#bd3786\"],[0.5555555555555556,\"#d8576b\"],[0.6666666666666666,\"#ed7953\"],[0.7777777777777778,\"#fb9f3a\"],[0.8888888888888888,\"#fdca26\"],[1.0,\"#f0f921\"]],\"sequentialminus\":[[0.0,\"#0d0887\"],[0.1111111111111111,\"#46039f\"],[0.2222222222222222,\"#7201a8\"],[0.3333333333333333,\"#9c179e\"],[0.4444444444444444,\"#bd3786\"],[0.5555555555555556,\"#d8576b\"],[0.6666666666666666,\"#ed7953\"],[0.7777777777777778,\"#fb9f3a\"],[0.8888888888888888,\"#fdca26\"],[1.0,\"#f0f921\"]],\"diverging\":[[0,\"#8e0152\"],[0.1,\"#c51b7d\"],[0.2,\"#de77ae\"],[0.3,\"#f1b6da\"],[0.4,\"#fde0ef\"],[0.5,\"#f7f7f7\"],[0.6,\"#e6f5d0\"],[0.7,\"#b8e186\"],[0.8,\"#7fbc41\"],[0.9,\"#4d9221\"],[1,\"#276419\"]]},\"xaxis\":{\"gridcolor\":\"white\",\"linecolor\":\"white\",\"ticks\":\"\",\"title\":{\"standoff\":15},\"zerolinecolor\":\"white\",\"automargin\":true,\"zerolinewidth\":2},\"yaxis\":{\"gridcolor\":\"white\",\"linecolor\":\"white\",\"ticks\":\"\",\"title\":{\"standoff\":15},\"zerolinecolor\":\"white\",\"automargin\":true,\"zerolinewidth\":2},\"scene\":{\"xaxis\":{\"backgroundcolor\":\"#E5ECF6\",\"gridcolor\":\"white\",\"linecolor\":\"white\",\"showbackground\":true,\"ticks\":\"\",\"zerolinecolor\":\"white\",\"gridwidth\":2},\"yaxis\":{\"backgroundcolor\":\"#E5ECF6\",\"gridcolor\":\"white\",\"linecolor\":\"white\",\"showbackground\":true,\"ticks\":\"\",\"zerolinecolor\":\"white\",\"gridwidth\":2},\"zaxis\":{\"backgroundcolor\":\"#E5ECF6\",\"gridcolor\":\"white\",\"linecolor\":\"white\",\"showbackground\":true,\"ticks\":\"\",\"zerolinecolor\":\"white\",\"gridwidth\":2}},\"shapedefaults\":{\"line\":{\"color\":\"#2a3f5f\"}},\"annotationdefaults\":{\"arrowcolor\":\"#2a3f5f\",\"arrowhead\":0,\"arrowwidth\":1},\"geo\":{\"bgcolor\":\"white\",\"landcolor\":\"#E5ECF6\",\"subunitcolor\":\"white\",\"showland\":true,\"showlakes\":true,\"lakecolor\":\"white\"},\"title\":{\"x\":0.05},\"mapbox\":{\"style\":\"light\"}}},\"title\":{\"text\":\"Frequency Distribution of Feature plant-stand\"},\"xaxis\":{\"title\":{\"text\":\"Categories\"}},\"yaxis\":{\"title\":{\"text\":\"Frequency\"}}},                        {\"responsive\": true}                    ).then(function(){\n",
       "                            \n",
       "var gd = document.getElementById('7c2226e8-fc75-47bc-8ba3-461e168e03e6');\n",
       "var x = new MutationObserver(function (mutations, observer) {{\n",
       "        var display = window.getComputedStyle(gd).display;\n",
       "        if (!display || display === 'none') {{\n",
       "            console.log([gd, 'removed!']);\n",
       "            Plotly.purge(gd);\n",
       "            observer.disconnect();\n",
       "        }}\n",
       "}});\n",
       "\n",
       "// Listen for the removal of the full notebook cells\n",
       "var notebookContainer = gd.closest('#notebook-container');\n",
       "if (notebookContainer) {{\n",
       "    x.observe(notebookContainer, {childList: true});\n",
       "}}\n",
       "\n",
       "// Listen for the clearing of the current output cell\n",
       "var outputEl = gd.closest('.output');\n",
       "if (outputEl) {{\n",
       "    x.observe(outputEl, {childList: true});\n",
       "}}\n",
       "\n",
       "                        })                };                });            </script>        </div>"
      ]
     },
     "metadata": {},
     "output_type": "display_data"
    }
   ],
   "source": [
    "def plot_categorical_frequency(feature_values, feature_name):\n",
    "    fig = go.Figure([go.Bar(x=feature_values.index, y=feature_values.values)])\n",
    "    fig.update_layout(title=f'Frequency Distribution of {feature_name}', xaxis_title='Categories', yaxis_title='Frequency')\n",
    "    fig.show()\n",
    "\n",
    "# Test the plotting function with the first two columns\n",
    "plot_categorical_frequency(X_soy[X_soy.columns[0]].value_counts(), f'Feature {X_soy.columns[0]}')\n",
    "plot_categorical_frequency(X_soy[X_soy.columns[1]].value_counts(), f'Feature {X_soy.columns[1]}')\n"
   ]
  },
  {
   "cell_type": "code",
   "execution_count": null,
   "id": "65fbc119",
   "metadata": {},
   "outputs": [],
   "source": []
  },
  {
   "cell_type": "code",
   "execution_count": 28,
   "id": "832acd77",
   "metadata": {},
   "outputs": [
    {
     "data": {
      "text/plain": [
       "\"X_heart_flagged = X_heart.copy()\\nX_heart_flagged['missing_flag'] = X_heart_flagged.isnull().any(axis=1).astype(int)\\nprint(X_heart_flagged)\\nimputer = SimpleImputer(strategy='mean')\\nX_heart_imputed = imputer.fit_transform(X_heart_flagged)\\n\\nX_breast_flagged = X_heart.copy()\\nX_breast_flagged['missing_flag'] = X_breast_flagged.isnull().any(axis=1).astype(int)\\nprint(X_breast_flagged)\\nimputer = SimpleImputer(strategy='mean')\\nX_breast_imputed = imputer.fit_transform(X_breast_flagged)\\n\\nX_derma_flagged = X_derma.copy()\\nX_derma_flagged['missing_flag'] = X_derma_flagged.isnull().any(axis=1).astype(int)\\nprint(X_derma_flagged)\\nimputer = SimpleImputer(strategy='mean')\\nX_derma_imputed = imputer.fit_transform(X_derma_flagged)\\n\\nX_mush_flagged = X_mush.copy()\\nX_mush_flagged['missing_flag'] = X_mush_flagged.isnull().any(axis=1).astype(int)\\nprint(X_mush_flagged)\\nX_mush_cleaned = X_mush_flagged.dropna()\""
      ]
     },
     "execution_count": 28,
     "metadata": {},
     "output_type": "execute_result"
    }
   ],
   "source": [
    "'''X_heart_flagged = X_heart.copy()\n",
    "X_heart_flagged['missing_flag'] = X_heart_flagged.isnull().any(axis=1).astype(int)\n",
    "print(X_heart_flagged)\n",
    "imputer = SimpleImputer(strategy='mean')\n",
    "X_heart_imputed = imputer.fit_transform(X_heart_flagged)\n",
    "\n",
    "X_breast_flagged = X_heart.copy()\n",
    "X_breast_flagged['missing_flag'] = X_breast_flagged.isnull().any(axis=1).astype(int)\n",
    "print(X_breast_flagged)\n",
    "imputer = SimpleImputer(strategy='mean')\n",
    "X_breast_imputed = imputer.fit_transform(X_breast_flagged)\n",
    "\n",
    "X_derma_flagged = X_derma.copy()\n",
    "X_derma_flagged['missing_flag'] = X_derma_flagged.isnull().any(axis=1).astype(int)\n",
    "print(X_derma_flagged)\n",
    "imputer = SimpleImputer(strategy='mean')\n",
    "X_derma_imputed = imputer.fit_transform(X_derma_flagged)\n",
    "\n",
    "X_mush_flagged = X_mush.copy()\n",
    "X_mush_flagged['missing_flag'] = X_mush_flagged.isnull().any(axis=1).astype(int)\n",
    "print(X_mush_flagged)\n",
    "X_mush_cleaned = X_mush_flagged.dropna()'''"
   ]
  },
  {
   "cell_type": "code",
   "execution_count": 43,
   "id": "237a6658",
   "metadata": {
    "scrolled": false
   },
   "outputs": [
    {
     "name": "stdout",
     "output_type": "stream",
     "text": [
      "Similarity between date and plant-stand: 0.5345224838248488\n",
      "Similarity between date and precip: 0.6546536707079772\n",
      "Similarity between date and temp: 0.6546536707079772\n",
      "Similarity between date and hail: 0.5345224838248488\n",
      "Similarity between date and crop-hist: 0.7559289460184544\n",
      "Similarity between date and area-damaged: 0.7559289460184544\n",
      "Similarity between date and severity: 0.5345224838248488\n",
      "Similarity between date and seed-tmt: 0.5345224838248488\n",
      "Similarity between date and germination: 0.6546536707079772\n",
      "Similarity between date and plant-growth: 0.3779644730092272\n",
      "Similarity between date and leaves: 0.5345224838248488\n",
      "Similarity between date and leafspots-halo: 0.3779644730092272\n",
      "Similarity between date and leafspots-marg: 0.3779644730092272\n",
      "Similarity between date and leafspot-size: 0.3779644730092272\n",
      "Similarity between date and leaf-shread: 0.3779644730092272\n",
      "Similarity between date and leaf-malf: 0.3779644730092272\n",
      "Similarity between date and leaf-mild: 0.3779644730092272\n",
      "Similarity between date and stem: 0.3779644730092272\n",
      "Similarity between date and lodging: 0.5345224838248488\n",
      "Similarity between date and stem-cankers: 0.7559289460184544\n",
      "Similarity between date and canker-lesion: 0.7559289460184544\n",
      "Similarity between date and fruiting-bodies: 0.5345224838248488\n",
      "Similarity between date and external-decay: 0.5345224838248488\n",
      "Similarity between date and mycelium: 0.5345224838248488\n",
      "Similarity between date and int-discolor: 0.5345224838248488\n",
      "Similarity between date and sclerotia: 0.5345224838248488\n",
      "Similarity between date and fruit-pods: 0.5345224838248488\n",
      "Similarity between date and fruit-spots: 0.3779644730092272\n",
      "Similarity between date and seed: 0.3779644730092272\n",
      "Similarity between date and mold-growth: 0.3779644730092272\n",
      "Similarity between date and seed-discolor: 0.3779644730092272\n",
      "Similarity between date and seed-size: 0.3779644730092272\n",
      "Similarity between date and shriveling: 0.3779644730092272\n",
      "Similarity between date and roots: 0.5345224838248488\n",
      "Similarity between plant-stand and precip: 0.8164965809277261\n",
      "Similarity between plant-stand and temp: 0.8164965809277261\n",
      "Similarity between plant-stand and hail: 1.0\n",
      "Similarity between plant-stand and crop-hist: 0.7071067811865475\n",
      "Similarity between plant-stand and area-damaged: 0.7071067811865475\n",
      "Similarity between plant-stand and severity: 0.5\n",
      "Similarity between plant-stand and seed-tmt: 1.0\n",
      "Similarity between plant-stand and germination: 0.8164965809277261\n",
      "Similarity between plant-stand and plant-growth: 0.7071067811865475\n",
      "Similarity between plant-stand and leaves: 1.0\n",
      "Similarity between plant-stand and leafspots-halo: 0.7071067811865475\n",
      "Similarity between plant-stand and leafspots-marg: 0.0\n",
      "Similarity between plant-stand and leafspot-size: 0.0\n",
      "Similarity between plant-stand and leaf-shread: 0.7071067811865475\n",
      "Similarity between plant-stand and leaf-malf: 0.7071067811865475\n",
      "Similarity between plant-stand and leaf-mild: 0.7071067811865475\n",
      "Similarity between plant-stand and stem: 0.7071067811865475\n",
      "Similarity between plant-stand and lodging: 1.0\n",
      "Similarity between plant-stand and stem-cankers: 0.7071067811865475\n",
      "Similarity between plant-stand and canker-lesion: 0.7071067811865475\n",
      "Similarity between plant-stand and fruiting-bodies: 1.0\n",
      "Similarity between plant-stand and external-decay: 1.0\n",
      "Similarity between plant-stand and mycelium: 1.0\n",
      "Similarity between plant-stand and int-discolor: 0.5\n",
      "Similarity between plant-stand and sclerotia: 1.0\n",
      "Similarity between plant-stand and fruit-pods: 0.5\n",
      "Similarity between plant-stand and fruit-spots: 0.0\n",
      "Similarity between plant-stand and seed: 0.7071067811865475\n",
      "Similarity between plant-stand and mold-growth: 0.7071067811865475\n",
      "Similarity between plant-stand and seed-discolor: 0.7071067811865475\n",
      "Similarity between plant-stand and seed-size: 0.7071067811865475\n",
      "Similarity between plant-stand and shriveling: 0.7071067811865475\n",
      "Similarity between plant-stand and roots: 1.0\n",
      "Similarity between precip and temp: 1.0\n",
      "Similarity between precip and hail: 0.8164965809277261\n",
      "Similarity between precip and crop-hist: 0.8660254037844387\n",
      "Similarity between precip and area-damaged: 0.8660254037844387\n",
      "Similarity between precip and severity: 0.8164965809277261\n",
      "Similarity between precip and seed-tmt: 0.8164965809277261\n",
      "Similarity between precip and germination: 1.0\n",
      "Similarity between precip and plant-growth: 0.5773502691896258\n",
      "Similarity between precip and leaves: 0.8164965809277261\n",
      "Similarity between precip and leafspots-halo: 0.5773502691896258\n",
      "Similarity between precip and leafspots-marg: 0.5773502691896258\n",
      "Similarity between precip and leafspot-size: 0.5773502691896258\n",
      "Similarity between precip and leaf-shread: 0.5773502691896258\n",
      "Similarity between precip and leaf-malf: 0.5773502691896258\n",
      "Similarity between precip and leaf-mild: 0.5773502691896258\n",
      "Similarity between precip and stem: 0.5773502691896258\n",
      "Similarity between precip and lodging: 0.8164965809277261\n",
      "Similarity between precip and stem-cankers: 0.8660254037844387\n",
      "Similarity between precip and canker-lesion: 0.8660254037844387\n",
      "Similarity between precip and fruiting-bodies: 0.8164965809277261\n",
      "Similarity between precip and external-decay: 0.8164965809277261\n",
      "Similarity between precip and mycelium: 0.8164965809277261\n",
      "Similarity between precip and int-discolor: 0.8164965809277261\n",
      "Similarity between precip and sclerotia: 0.8164965809277261\n",
      "Similarity between precip and fruit-pods: 0.4082482904638631\n",
      "Similarity between precip and fruit-spots: 0.0\n",
      "Similarity between precip and seed: 0.5773502691896258\n",
      "Similarity between precip and mold-growth: 0.5773502691896258\n",
      "Similarity between precip and seed-discolor: 0.5773502691896258\n",
      "Similarity between precip and seed-size: 0.5773502691896258\n",
      "Similarity between precip and shriveling: 0.5773502691896258\n",
      "Similarity between precip and roots: 0.8164965809277261\n",
      "Similarity between temp and hail: 0.8164965809277261\n",
      "Similarity between temp and crop-hist: 0.8660254037844387\n",
      "Similarity between temp and area-damaged: 0.8660254037844387\n",
      "Similarity between temp and severity: 0.8164965809277261\n",
      "Similarity between temp and seed-tmt: 0.8164965809277261\n",
      "Similarity between temp and germination: 1.0\n",
      "Similarity between temp and plant-growth: 0.5773502691896258\n",
      "Similarity between temp and leaves: 0.8164965809277261\n",
      "Similarity between temp and leafspots-halo: 0.5773502691896258\n",
      "Similarity between temp and leafspots-marg: 0.5773502691896258\n",
      "Similarity between temp and leafspot-size: 0.5773502691896258\n",
      "Similarity between temp and leaf-shread: 0.5773502691896258\n",
      "Similarity between temp and leaf-malf: 0.5773502691896258\n",
      "Similarity between temp and leaf-mild: 0.5773502691896258\n",
      "Similarity between temp and stem: 0.5773502691896258\n",
      "Similarity between temp and lodging: 0.8164965809277261\n",
      "Similarity between temp and stem-cankers: 0.8660254037844387\n",
      "Similarity between temp and canker-lesion: 0.8660254037844387\n",
      "Similarity between temp and fruiting-bodies: 0.8164965809277261\n",
      "Similarity between temp and external-decay: 0.8164965809277261\n",
      "Similarity between temp and mycelium: 0.8164965809277261\n",
      "Similarity between temp and int-discolor: 0.8164965809277261\n",
      "Similarity between temp and sclerotia: 0.8164965809277261\n",
      "Similarity between temp and fruit-pods: 0.4082482904638631\n",
      "Similarity between temp and fruit-spots: 0.0\n",
      "Similarity between temp and seed: 0.5773502691896258\n",
      "Similarity between temp and mold-growth: 0.5773502691896258\n",
      "Similarity between temp and seed-discolor: 0.5773502691896258\n",
      "Similarity between temp and seed-size: 0.5773502691896258\n",
      "Similarity between temp and shriveling: 0.5773502691896258\n",
      "Similarity between temp and roots: 0.8164965809277261\n",
      "Similarity between hail and crop-hist: 0.7071067811865475\n",
      "Similarity between hail and area-damaged: 0.7071067811865475\n",
      "Similarity between hail and severity: 0.5\n",
      "Similarity between hail and seed-tmt: 1.0\n",
      "Similarity between hail and germination: 0.8164965809277261\n",
      "Similarity between hail and plant-growth: 0.7071067811865475\n",
      "Similarity between hail and leaves: 1.0\n",
      "Similarity between hail and leafspots-halo: 0.7071067811865475\n",
      "Similarity between hail and leafspots-marg: 0.0\n",
      "Similarity between hail and leafspot-size: 0.0\n",
      "Similarity between hail and leaf-shread: 0.7071067811865475\n",
      "Similarity between hail and leaf-malf: 0.7071067811865475\n",
      "Similarity between hail and leaf-mild: 0.7071067811865475\n",
      "Similarity between hail and stem: 0.7071067811865475\n",
      "Similarity between hail and lodging: 1.0\n",
      "Similarity between hail and stem-cankers: 0.7071067811865475\n",
      "Similarity between hail and canker-lesion: 0.7071067811865475\n",
      "Similarity between hail and fruiting-bodies: 1.0\n",
      "Similarity between hail and external-decay: 1.0\n",
      "Similarity between hail and mycelium: 1.0\n",
      "Similarity between hail and int-discolor: 0.5\n",
      "Similarity between hail and sclerotia: 1.0\n",
      "Similarity between hail and fruit-pods: 0.5\n",
      "Similarity between hail and fruit-spots: 0.0\n",
      "Similarity between hail and seed: 0.7071067811865475\n",
      "Similarity between hail and mold-growth: 0.7071067811865475\n",
      "Similarity between hail and seed-discolor: 0.7071067811865475\n",
      "Similarity between hail and seed-size: 0.7071067811865475\n",
      "Similarity between hail and shriveling: 0.7071067811865475\n",
      "Similarity between hail and roots: 1.0\n",
      "Similarity between crop-hist and area-damaged: 1.0\n",
      "Similarity between crop-hist and severity: 0.7071067811865475\n",
      "Similarity between crop-hist and seed-tmt: 0.7071067811865475\n",
      "Similarity between crop-hist and germination: 0.8660254037844387\n",
      "Similarity between crop-hist and plant-growth: 0.5\n",
      "Similarity between crop-hist and leaves: 0.7071067811865475\n",
      "Similarity between crop-hist and leafspots-halo: 0.5\n",
      "Similarity between crop-hist and leafspots-marg: 0.5\n",
      "Similarity between crop-hist and leafspot-size: 0.5\n",
      "Similarity between crop-hist and leaf-shread: 0.5\n",
      "Similarity between crop-hist and leaf-malf: 0.5\n",
      "Similarity between crop-hist and leaf-mild: 0.5\n",
      "Similarity between crop-hist and stem: 0.5\n",
      "Similarity between crop-hist and lodging: 0.7071067811865475\n",
      "Similarity between crop-hist and stem-cankers: 1.0\n",
      "Similarity between crop-hist and canker-lesion: 1.0\n",
      "Similarity between crop-hist and fruiting-bodies: 0.7071067811865475\n",
      "Similarity between crop-hist and external-decay: 0.7071067811865475\n",
      "Similarity between crop-hist and mycelium: 0.7071067811865475\n",
      "Similarity between crop-hist and int-discolor: 0.7071067811865475\n",
      "Similarity between crop-hist and sclerotia: 0.7071067811865475\n",
      "Similarity between crop-hist and fruit-pods: 0.7071067811865475\n",
      "Similarity between crop-hist and fruit-spots: 0.0\n",
      "Similarity between crop-hist and seed: 0.5\n",
      "Similarity between crop-hist and mold-growth: 0.5\n",
      "Similarity between crop-hist and seed-discolor: 0.5\n",
      "Similarity between crop-hist and seed-size: 0.5\n",
      "Similarity between crop-hist and shriveling: 0.5\n",
      "Similarity between crop-hist and roots: 0.7071067811865475\n",
      "Similarity between area-damaged and severity: 0.7071067811865475\n",
      "Similarity between area-damaged and seed-tmt: 0.7071067811865475\n",
      "Similarity between area-damaged and germination: 0.8660254037844387\n",
      "Similarity between area-damaged and plant-growth: 0.5\n",
      "Similarity between area-damaged and leaves: 0.7071067811865475\n",
      "Similarity between area-damaged and leafspots-halo: 0.5\n",
      "Similarity between area-damaged and leafspots-marg: 0.5\n",
      "Similarity between area-damaged and leafspot-size: 0.5\n",
      "Similarity between area-damaged and leaf-shread: 0.5\n",
      "Similarity between area-damaged and leaf-malf: 0.5\n",
      "Similarity between area-damaged and leaf-mild: 0.5\n",
      "Similarity between area-damaged and stem: 0.5\n",
      "Similarity between area-damaged and lodging: 0.7071067811865475\n",
      "Similarity between area-damaged and stem-cankers: 1.0\n",
      "Similarity between area-damaged and canker-lesion: 1.0\n",
      "Similarity between area-damaged and fruiting-bodies: 0.7071067811865475\n",
      "Similarity between area-damaged and external-decay: 0.7071067811865475\n",
      "Similarity between area-damaged and mycelium: 0.7071067811865475\n",
      "Similarity between area-damaged and int-discolor: 0.7071067811865475\n",
      "Similarity between area-damaged and sclerotia: 0.7071067811865475\n",
      "Similarity between area-damaged and fruit-pods: 0.7071067811865475\n",
      "Similarity between area-damaged and fruit-spots: 0.0\n",
      "Similarity between area-damaged and seed: 0.5\n",
      "Similarity between area-damaged and mold-growth: 0.5\n",
      "Similarity between area-damaged and seed-discolor: 0.5\n",
      "Similarity between area-damaged and seed-size: 0.5\n",
      "Similarity between area-damaged and shriveling: 0.5\n",
      "Similarity between area-damaged and roots: 0.7071067811865475\n",
      "Similarity between severity and seed-tmt: 0.5\n",
      "Similarity between severity and germination: 0.8164965809277261\n",
      "Similarity between severity and plant-growth: 0.7071067811865475\n",
      "Similarity between severity and leaves: 0.5\n",
      "Similarity between severity and leafspots-halo: 0.0\n",
      "Similarity between severity and leafspots-marg: 0.7071067811865475\n",
      "Similarity between severity and leafspot-size: 0.7071067811865475\n",
      "Similarity between severity and leaf-shread: 0.0\n",
      "Similarity between severity and leaf-malf: 0.0\n",
      "Similarity between severity and leaf-mild: 0.0\n",
      "Similarity between severity and stem: 0.7071067811865475\n",
      "Similarity between severity and lodging: 0.5\n",
      "Similarity between severity and stem-cankers: 0.7071067811865475\n",
      "Similarity between severity and canker-lesion: 0.7071067811865475\n",
      "Similarity between severity and fruiting-bodies: 0.5\n",
      "Similarity between severity and external-decay: 0.5\n",
      "Similarity between severity and mycelium: 0.5\n",
      "Similarity between severity and int-discolor: 0.5\n",
      "Similarity between severity and sclerotia: 0.5\n",
      "Similarity between severity and fruit-pods: 0.0\n",
      "Similarity between severity and fruit-spots: 0.0\n",
      "Similarity between severity and seed: 0.0\n",
      "Similarity between severity and mold-growth: 0.0\n",
      "Similarity between severity and seed-discolor: 0.0\n",
      "Similarity between severity and seed-size: 0.0\n",
      "Similarity between severity and shriveling: 0.0\n",
      "Similarity between severity and roots: 0.5\n",
      "Similarity between seed-tmt and germination: 0.8164965809277261\n",
      "Similarity between seed-tmt and plant-growth: 0.7071067811865475\n",
      "Similarity between seed-tmt and leaves: 1.0\n",
      "Similarity between seed-tmt and leafspots-halo: 0.7071067811865475\n",
      "Similarity between seed-tmt and leafspots-marg: 0.0\n",
      "Similarity between seed-tmt and leafspot-size: 0.0\n",
      "Similarity between seed-tmt and leaf-shread: 0.7071067811865475\n",
      "Similarity between seed-tmt and leaf-malf: 0.7071067811865475\n",
      "Similarity between seed-tmt and leaf-mild: 0.7071067811865475\n",
      "Similarity between seed-tmt and stem: 0.7071067811865475\n",
      "Similarity between seed-tmt and lodging: 1.0\n",
      "Similarity between seed-tmt and stem-cankers: 0.7071067811865475\n",
      "Similarity between seed-tmt and canker-lesion: 0.7071067811865475\n",
      "Similarity between seed-tmt and fruiting-bodies: 1.0\n",
      "Similarity between seed-tmt and external-decay: 1.0\n",
      "Similarity between seed-tmt and mycelium: 1.0\n",
      "Similarity between seed-tmt and int-discolor: 0.5\n",
      "Similarity between seed-tmt and sclerotia: 1.0\n",
      "Similarity between seed-tmt and fruit-pods: 0.5\n",
      "Similarity between seed-tmt and fruit-spots: 0.0\n",
      "Similarity between seed-tmt and seed: 0.7071067811865475\n",
      "Similarity between seed-tmt and mold-growth: 0.7071067811865475\n",
      "Similarity between seed-tmt and seed-discolor: 0.7071067811865475\n",
      "Similarity between seed-tmt and seed-size: 0.7071067811865475\n",
      "Similarity between seed-tmt and shriveling: 0.7071067811865475\n",
      "Similarity between seed-tmt and roots: 1.0\n",
      "Similarity between germination and plant-growth: 0.5773502691896258\n",
      "Similarity between germination and leaves: 0.8164965809277261\n",
      "Similarity between germination and leafspots-halo: 0.5773502691896258\n",
      "Similarity between germination and leafspots-marg: 0.5773502691896258\n",
      "Similarity between germination and leafspot-size: 0.5773502691896258\n",
      "Similarity between germination and leaf-shread: 0.5773502691896258\n",
      "Similarity between germination and leaf-malf: 0.5773502691896258\n",
      "Similarity between germination and leaf-mild: 0.5773502691896258\n",
      "Similarity between germination and stem: 0.5773502691896258\n",
      "Similarity between germination and lodging: 0.8164965809277261\n",
      "Similarity between germination and stem-cankers: 0.8660254037844387\n",
      "Similarity between germination and canker-lesion: 0.8660254037844387\n",
      "Similarity between germination and fruiting-bodies: 0.8164965809277261\n",
      "Similarity between germination and external-decay: 0.8164965809277261\n",
      "Similarity between germination and mycelium: 0.8164965809277261\n",
      "Similarity between germination and int-discolor: 0.8164965809277261\n",
      "Similarity between germination and sclerotia: 0.8164965809277261\n",
      "Similarity between germination and fruit-pods: 0.4082482904638631\n",
      "Similarity between germination and fruit-spots: 0.0\n",
      "Similarity between germination and seed: 0.5773502691896258\n",
      "Similarity between germination and mold-growth: 0.5773502691896258\n",
      "Similarity between germination and seed-discolor: 0.5773502691896258\n",
      "Similarity between germination and seed-size: 0.5773502691896258\n",
      "Similarity between germination and shriveling: 0.5773502691896258\n",
      "Similarity between germination and roots: 0.8164965809277261\n",
      "Similarity between plant-growth and leaves: 0.7071067811865475\n",
      "Similarity between plant-growth and leafspots-halo: 0.0\n",
      "Similarity between plant-growth and leafspots-marg: 0.0\n",
      "Similarity between plant-growth and leafspot-size: 0.0\n",
      "Similarity between plant-growth and leaf-shread: 0.0\n",
      "Similarity between plant-growth and leaf-malf: 0.0\n",
      "Similarity between plant-growth and leaf-mild: 0.0\n",
      "Similarity between plant-growth and stem: 1.0\n",
      "Similarity between plant-growth and lodging: 0.7071067811865475\n",
      "Similarity between plant-growth and stem-cankers: 0.5\n",
      "Similarity between plant-growth and canker-lesion: 0.5\n",
      "Similarity between plant-growth and fruiting-bodies: 0.7071067811865475\n",
      "Similarity between plant-growth and external-decay: 0.7071067811865475\n",
      "Similarity between plant-growth and mycelium: 0.7071067811865475\n",
      "Similarity between plant-growth and int-discolor: 0.0\n",
      "Similarity between plant-growth and sclerotia: 0.7071067811865475\n",
      "Similarity between plant-growth and fruit-pods: 0.0\n",
      "Similarity between plant-growth and fruit-spots: 0.0\n",
      "Similarity between plant-growth and seed: 0.0\n",
      "Similarity between plant-growth and mold-growth: 0.0\n",
      "Similarity between plant-growth and seed-discolor: 0.0\n",
      "Similarity between plant-growth and seed-size: 0.0\n",
      "Similarity between plant-growth and shriveling: 0.0\n",
      "Similarity between plant-growth and roots: 0.7071067811865475\n",
      "Similarity between leaves and leafspots-halo: 0.7071067811865475\n",
      "Similarity between leaves and leafspots-marg: 0.0\n",
      "Similarity between leaves and leafspot-size: 0.0\n",
      "Similarity between leaves and leaf-shread: 0.7071067811865475\n",
      "Similarity between leaves and leaf-malf: 0.7071067811865475\n",
      "Similarity between leaves and leaf-mild: 0.7071067811865475\n",
      "Similarity between leaves and stem: 0.7071067811865475\n",
      "Similarity between leaves and lodging: 1.0\n",
      "Similarity between leaves and stem-cankers: 0.7071067811865475\n",
      "Similarity between leaves and canker-lesion: 0.7071067811865475\n",
      "Similarity between leaves and fruiting-bodies: 1.0\n",
      "Similarity between leaves and external-decay: 1.0\n",
      "Similarity between leaves and mycelium: 1.0\n",
      "Similarity between leaves and int-discolor: 0.5\n",
      "Similarity between leaves and sclerotia: 1.0\n",
      "Similarity between leaves and fruit-pods: 0.5\n",
      "Similarity between leaves and fruit-spots: 0.0\n",
      "Similarity between leaves and seed: 0.7071067811865475\n",
      "Similarity between leaves and mold-growth: 0.7071067811865475\n",
      "Similarity between leaves and seed-discolor: 0.7071067811865475\n",
      "Similarity between leaves and seed-size: 0.7071067811865475\n",
      "Similarity between leaves and shriveling: 0.7071067811865475\n",
      "Similarity between leaves and roots: 1.0\n",
      "Similarity between leafspots-halo and leafspots-marg: 0.0\n",
      "Similarity between leafspots-halo and leafspot-size: 0.0\n",
      "Similarity between leafspots-halo and leaf-shread: 1.0\n",
      "Similarity between leafspots-halo and leaf-malf: 1.0\n",
      "Similarity between leafspots-halo and leaf-mild: 1.0\n",
      "Similarity between leafspots-halo and stem: 0.0\n",
      "Similarity between leafspots-halo and lodging: 0.7071067811865475\n",
      "Similarity between leafspots-halo and stem-cankers: 0.5\n",
      "Similarity between leafspots-halo and canker-lesion: 0.5\n",
      "Similarity between leafspots-halo and fruiting-bodies: 0.7071067811865475\n",
      "Similarity between leafspots-halo and external-decay: 0.7071067811865475\n",
      "Similarity between leafspots-halo and mycelium: 0.7071067811865475\n",
      "Similarity between leafspots-halo and int-discolor: 0.7071067811865475\n",
      "Similarity between leafspots-halo and sclerotia: 0.7071067811865475\n",
      "Similarity between leafspots-halo and fruit-pods: 0.7071067811865475\n",
      "Similarity between leafspots-halo and fruit-spots: 0.0\n",
      "Similarity between leafspots-halo and seed: 1.0\n",
      "Similarity between leafspots-halo and mold-growth: 1.0\n",
      "Similarity between leafspots-halo and seed-discolor: 1.0\n",
      "Similarity between leafspots-halo and seed-size: 1.0\n",
      "Similarity between leafspots-halo and shriveling: 1.0\n",
      "Similarity between leafspots-halo and roots: 0.7071067811865475\n",
      "Similarity between leafspots-marg and leafspot-size: 1.0\n",
      "Similarity between leafspots-marg and leaf-shread: 0.0\n",
      "Similarity between leafspots-marg and leaf-malf: 0.0\n",
      "Similarity between leafspots-marg and leaf-mild: 0.0\n",
      "Similarity between leafspots-marg and stem: 0.0\n",
      "Similarity between leafspots-marg and lodging: 0.0\n",
      "Similarity between leafspots-marg and stem-cankers: 0.5\n",
      "Similarity between leafspots-marg and canker-lesion: 0.5\n",
      "Similarity between leafspots-marg and fruiting-bodies: 0.0\n",
      "Similarity between leafspots-marg and external-decay: 0.0\n",
      "Similarity between leafspots-marg and mycelium: 0.0\n",
      "Similarity between leafspots-marg and int-discolor: 0.7071067811865475\n",
      "Similarity between leafspots-marg and sclerotia: 0.0\n",
      "Similarity between leafspots-marg and fruit-pods: 0.0\n",
      "Similarity between leafspots-marg and fruit-spots: 0.0\n",
      "Similarity between leafspots-marg and seed: 0.0\n",
      "Similarity between leafspots-marg and mold-growth: 0.0\n",
      "Similarity between leafspots-marg and seed-discolor: 0.0\n",
      "Similarity between leafspots-marg and seed-size: 0.0\n",
      "Similarity between leafspots-marg and shriveling: 0.0\n",
      "Similarity between leafspots-marg and roots: 0.0\n",
      "Similarity between leafspot-size and leaf-shread: 0.0\n",
      "Similarity between leafspot-size and leaf-malf: 0.0\n",
      "Similarity between leafspot-size and leaf-mild: 0.0\n",
      "Similarity between leafspot-size and stem: 0.0\n",
      "Similarity between leafspot-size and lodging: 0.0\n",
      "Similarity between leafspot-size and stem-cankers: 0.5\n",
      "Similarity between leafspot-size and canker-lesion: 0.5\n",
      "Similarity between leafspot-size and fruiting-bodies: 0.0\n",
      "Similarity between leafspot-size and external-decay: 0.0\n",
      "Similarity between leafspot-size and mycelium: 0.0\n",
      "Similarity between leafspot-size and int-discolor: 0.7071067811865475\n",
      "Similarity between leafspot-size and sclerotia: 0.0\n",
      "Similarity between leafspot-size and fruit-pods: 0.0\n",
      "Similarity between leafspot-size and fruit-spots: 0.0\n",
      "Similarity between leafspot-size and seed: 0.0\n",
      "Similarity between leafspot-size and mold-growth: 0.0\n",
      "Similarity between leafspot-size and seed-discolor: 0.0\n",
      "Similarity between leafspot-size and seed-size: 0.0\n",
      "Similarity between leafspot-size and shriveling: 0.0\n",
      "Similarity between leafspot-size and roots: 0.0\n",
      "Similarity between leaf-shread and leaf-malf: 1.0\n",
      "Similarity between leaf-shread and leaf-mild: 1.0\n",
      "Similarity between leaf-shread and stem: 0.0\n",
      "Similarity between leaf-shread and lodging: 0.7071067811865475\n",
      "Similarity between leaf-shread and stem-cankers: 0.5\n",
      "Similarity between leaf-shread and canker-lesion: 0.5\n",
      "Similarity between leaf-shread and fruiting-bodies: 0.7071067811865475\n",
      "Similarity between leaf-shread and external-decay: 0.7071067811865475\n",
      "Similarity between leaf-shread and mycelium: 0.7071067811865475\n",
      "Similarity between leaf-shread and int-discolor: 0.7071067811865475\n",
      "Similarity between leaf-shread and sclerotia: 0.7071067811865475\n",
      "Similarity between leaf-shread and fruit-pods: 0.7071067811865475\n",
      "Similarity between leaf-shread and fruit-spots: 0.0\n",
      "Similarity between leaf-shread and seed: 1.0\n",
      "Similarity between leaf-shread and mold-growth: 1.0\n",
      "Similarity between leaf-shread and seed-discolor: 1.0\n",
      "Similarity between leaf-shread and seed-size: 1.0\n",
      "Similarity between leaf-shread and shriveling: 1.0\n",
      "Similarity between leaf-shread and roots: 0.7071067811865475\n",
      "Similarity between leaf-malf and leaf-mild: 1.0\n",
      "Similarity between leaf-malf and stem: 0.0\n",
      "Similarity between leaf-malf and lodging: 0.7071067811865475\n",
      "Similarity between leaf-malf and stem-cankers: 0.5\n",
      "Similarity between leaf-malf and canker-lesion: 0.5\n",
      "Similarity between leaf-malf and fruiting-bodies: 0.7071067811865475\n",
      "Similarity between leaf-malf and external-decay: 0.7071067811865475\n",
      "Similarity between leaf-malf and mycelium: 0.7071067811865475\n",
      "Similarity between leaf-malf and int-discolor: 0.7071067811865475\n",
      "Similarity between leaf-malf and sclerotia: 0.7071067811865475\n",
      "Similarity between leaf-malf and fruit-pods: 0.7071067811865475\n",
      "Similarity between leaf-malf and fruit-spots: 0.0\n",
      "Similarity between leaf-malf and seed: 1.0\n",
      "Similarity between leaf-malf and mold-growth: 1.0\n",
      "Similarity between leaf-malf and seed-discolor: 1.0\n",
      "Similarity between leaf-malf and seed-size: 1.0\n",
      "Similarity between leaf-malf and shriveling: 1.0\n",
      "Similarity between leaf-malf and roots: 0.7071067811865475\n",
      "Similarity between leaf-mild and stem: 0.0\n",
      "Similarity between leaf-mild and lodging: 0.7071067811865475\n",
      "Similarity between leaf-mild and stem-cankers: 0.5\n",
      "Similarity between leaf-mild and canker-lesion: 0.5\n",
      "Similarity between leaf-mild and fruiting-bodies: 0.7071067811865475\n",
      "Similarity between leaf-mild and external-decay: 0.7071067811865475\n",
      "Similarity between leaf-mild and mycelium: 0.7071067811865475\n",
      "Similarity between leaf-mild and int-discolor: 0.7071067811865475\n",
      "Similarity between leaf-mild and sclerotia: 0.7071067811865475\n",
      "Similarity between leaf-mild and fruit-pods: 0.7071067811865475\n",
      "Similarity between leaf-mild and fruit-spots: 0.0\n",
      "Similarity between leaf-mild and seed: 1.0\n",
      "Similarity between leaf-mild and mold-growth: 1.0\n",
      "Similarity between leaf-mild and seed-discolor: 1.0\n",
      "Similarity between leaf-mild and seed-size: 1.0\n",
      "Similarity between leaf-mild and shriveling: 1.0\n",
      "Similarity between leaf-mild and roots: 0.7071067811865475\n",
      "Similarity between stem and lodging: 0.7071067811865475\n",
      "Similarity between stem and stem-cankers: 0.5\n",
      "Similarity between stem and canker-lesion: 0.5\n",
      "Similarity between stem and fruiting-bodies: 0.7071067811865475\n",
      "Similarity between stem and external-decay: 0.7071067811865475\n",
      "Similarity between stem and mycelium: 0.7071067811865475\n",
      "Similarity between stem and int-discolor: 0.0\n",
      "Similarity between stem and sclerotia: 0.7071067811865475\n",
      "Similarity between stem and fruit-pods: 0.0\n",
      "Similarity between stem and fruit-spots: 0.0\n",
      "Similarity between stem and seed: 0.0\n",
      "Similarity between stem and mold-growth: 0.0\n",
      "Similarity between stem and seed-discolor: 0.0\n",
      "Similarity between stem and seed-size: 0.0\n",
      "Similarity between stem and shriveling: 0.0\n",
      "Similarity between stem and roots: 0.7071067811865475\n",
      "Similarity between lodging and stem-cankers: 0.7071067811865475\n",
      "Similarity between lodging and canker-lesion: 0.7071067811865475\n",
      "Similarity between lodging and fruiting-bodies: 1.0\n",
      "Similarity between lodging and external-decay: 1.0\n",
      "Similarity between lodging and mycelium: 1.0\n",
      "Similarity between lodging and int-discolor: 0.5\n",
      "Similarity between lodging and sclerotia: 1.0\n",
      "Similarity between lodging and fruit-pods: 0.5\n",
      "Similarity between lodging and fruit-spots: 0.0\n",
      "Similarity between lodging and seed: 0.7071067811865475\n",
      "Similarity between lodging and mold-growth: 0.7071067811865475\n",
      "Similarity between lodging and seed-discolor: 0.7071067811865475\n",
      "Similarity between lodging and seed-size: 0.7071067811865475\n",
      "Similarity between lodging and shriveling: 0.7071067811865475\n",
      "Similarity between lodging and roots: 1.0\n",
      "Similarity between stem-cankers and canker-lesion: 1.0\n",
      "Similarity between stem-cankers and fruiting-bodies: 0.7071067811865475\n",
      "Similarity between stem-cankers and external-decay: 0.7071067811865475\n",
      "Similarity between stem-cankers and mycelium: 0.7071067811865475\n",
      "Similarity between stem-cankers and int-discolor: 0.7071067811865475\n",
      "Similarity between stem-cankers and sclerotia: 0.7071067811865475\n",
      "Similarity between stem-cankers and fruit-pods: 0.7071067811865475\n",
      "Similarity between stem-cankers and fruit-spots: 0.0\n",
      "Similarity between stem-cankers and seed: 0.5\n",
      "Similarity between stem-cankers and mold-growth: 0.5\n",
      "Similarity between stem-cankers and seed-discolor: 0.5\n",
      "Similarity between stem-cankers and seed-size: 0.5\n",
      "Similarity between stem-cankers and shriveling: 0.5\n",
      "Similarity between stem-cankers and roots: 0.7071067811865475\n",
      "Similarity between canker-lesion and fruiting-bodies: 0.7071067811865475\n",
      "Similarity between canker-lesion and external-decay: 0.7071067811865475\n",
      "Similarity between canker-lesion and mycelium: 0.7071067811865475\n",
      "Similarity between canker-lesion and int-discolor: 0.7071067811865475\n",
      "Similarity between canker-lesion and sclerotia: 0.7071067811865475\n",
      "Similarity between canker-lesion and fruit-pods: 0.7071067811865475\n",
      "Similarity between canker-lesion and fruit-spots: 0.0\n",
      "Similarity between canker-lesion and seed: 0.5\n",
      "Similarity between canker-lesion and mold-growth: 0.5\n",
      "Similarity between canker-lesion and seed-discolor: 0.5\n",
      "Similarity between canker-lesion and seed-size: 0.5\n",
      "Similarity between canker-lesion and shriveling: 0.5\n",
      "Similarity between canker-lesion and roots: 0.7071067811865475\n",
      "Similarity between fruiting-bodies and external-decay: 1.0\n",
      "Similarity between fruiting-bodies and mycelium: 1.0\n",
      "Similarity between fruiting-bodies and int-discolor: 0.5\n",
      "Similarity between fruiting-bodies and sclerotia: 1.0\n",
      "Similarity between fruiting-bodies and fruit-pods: 0.5\n",
      "Similarity between fruiting-bodies and fruit-spots: 0.0\n",
      "Similarity between fruiting-bodies and seed: 0.7071067811865475\n",
      "Similarity between fruiting-bodies and mold-growth: 0.7071067811865475\n",
      "Similarity between fruiting-bodies and seed-discolor: 0.7071067811865475\n",
      "Similarity between fruiting-bodies and seed-size: 0.7071067811865475\n",
      "Similarity between fruiting-bodies and shriveling: 0.7071067811865475\n",
      "Similarity between fruiting-bodies and roots: 1.0\n",
      "Similarity between external-decay and mycelium: 1.0\n",
      "Similarity between external-decay and int-discolor: 0.5\n",
      "Similarity between external-decay and sclerotia: 1.0\n",
      "Similarity between external-decay and fruit-pods: 0.5\n",
      "Similarity between external-decay and fruit-spots: 0.0\n",
      "Similarity between external-decay and seed: 0.7071067811865475\n",
      "Similarity between external-decay and mold-growth: 0.7071067811865475\n",
      "Similarity between external-decay and seed-discolor: 0.7071067811865475\n",
      "Similarity between external-decay and seed-size: 0.7071067811865475\n",
      "Similarity between external-decay and shriveling: 0.7071067811865475\n",
      "Similarity between external-decay and roots: 1.0\n",
      "Similarity between mycelium and int-discolor: 0.5\n",
      "Similarity between mycelium and sclerotia: 1.0\n",
      "Similarity between mycelium and fruit-pods: 0.5\n",
      "Similarity between mycelium and fruit-spots: 0.0\n",
      "Similarity between mycelium and seed: 0.7071067811865475\n",
      "Similarity between mycelium and mold-growth: 0.7071067811865475\n",
      "Similarity between mycelium and seed-discolor: 0.7071067811865475\n",
      "Similarity between mycelium and seed-size: 0.7071067811865475\n",
      "Similarity between mycelium and shriveling: 0.7071067811865475\n",
      "Similarity between mycelium and roots: 1.0\n",
      "Similarity between int-discolor and sclerotia: 0.5\n",
      "Similarity between int-discolor and fruit-pods: 0.5\n",
      "Similarity between int-discolor and fruit-spots: 0.0\n",
      "Similarity between int-discolor and seed: 0.7071067811865475\n",
      "Similarity between int-discolor and mold-growth: 0.7071067811865475\n",
      "Similarity between int-discolor and seed-discolor: 0.7071067811865475\n",
      "Similarity between int-discolor and seed-size: 0.7071067811865475\n",
      "Similarity between int-discolor and shriveling: 0.7071067811865475\n",
      "Similarity between int-discolor and roots: 0.5\n",
      "Similarity between sclerotia and fruit-pods: 0.5\n",
      "Similarity between sclerotia and fruit-spots: 0.0\n",
      "Similarity between sclerotia and seed: 0.7071067811865475\n",
      "Similarity between sclerotia and mold-growth: 0.7071067811865475\n",
      "Similarity between sclerotia and seed-discolor: 0.7071067811865475\n",
      "Similarity between sclerotia and seed-size: 0.7071067811865475\n",
      "Similarity between sclerotia and shriveling: 0.7071067811865475\n",
      "Similarity between sclerotia and roots: 1.0\n",
      "Similarity between fruit-pods and fruit-spots: 0.0\n",
      "Similarity between fruit-pods and seed: 0.7071067811865475\n",
      "Similarity between fruit-pods and mold-growth: 0.7071067811865475\n",
      "Similarity between fruit-pods and seed-discolor: 0.7071067811865475\n",
      "Similarity between fruit-pods and seed-size: 0.7071067811865475\n",
      "Similarity between fruit-pods and shriveling: 0.7071067811865475\n",
      "Similarity between fruit-pods and roots: 0.5\n",
      "Similarity between fruit-spots and seed: 0.0\n",
      "Similarity between fruit-spots and mold-growth: 0.0\n",
      "Similarity between fruit-spots and seed-discolor: 0.0\n",
      "Similarity between fruit-spots and seed-size: 0.0\n",
      "Similarity between fruit-spots and shriveling: 0.0\n",
      "Similarity between fruit-spots and roots: 0.0\n",
      "Similarity between seed and mold-growth: 1.0\n",
      "Similarity between seed and seed-discolor: 1.0\n",
      "Similarity between seed and seed-size: 1.0\n",
      "Similarity between seed and shriveling: 1.0\n",
      "Similarity between seed and roots: 0.7071067811865475\n",
      "Similarity between mold-growth and seed-discolor: 1.0\n",
      "Similarity between mold-growth and seed-size: 1.0\n",
      "Similarity between mold-growth and shriveling: 1.0\n",
      "Similarity between mold-growth and roots: 0.7071067811865475\n",
      "Similarity between seed-discolor and seed-size: 1.0\n",
      "Similarity between seed-discolor and shriveling: 1.0\n",
      "Similarity between seed-discolor and roots: 0.7071067811865475\n",
      "Similarity between seed-size and shriveling: 1.0\n",
      "Similarity between seed-size and roots: 0.7071067811865475\n",
      "Similarity between shriveling and roots: 0.7071067811865475\n"
     ]
    }
   ],
   "source": [
    "\n",
    "def ochiai_similarity(set1, set2):\n",
    "    intersection = len(set1.intersection(set2))\n",
    "    denominator = (len(set1) * len(set2)) ** 0.5\n",
    "    if denominator == 0:\n",
    "        return 0\n",
    "    else:\n",
    "        return intersection / denominator\n",
    "\n",
    "# Calculate Ochiai coefficient for each pair of features\n",
    "categorical_features = [feature for feature in [\n",
    "    'date', 'plant-stand', 'precip', 'temp', 'hail', 'crop-hist', \n",
    "    'area-damaged', 'severity', 'seed-tmt', 'germination', 'plant-growth', \n",
    "    'leaves', 'leafspots-halo', 'leafspots-marg', 'leafspot-size', \n",
    "    'leaf-shread', 'leaf-malf', 'leaf-mild', 'stem', 'lodging', \n",
    "    'stem-cankers', 'canker-lesion', 'fruiting-bodies', 'external-decay', \n",
    "    'mycelium', 'int-discolor', 'sclerotia', 'fruit-pods', 'fruit-spots', \n",
    "    'seed', 'mold-growth', 'seed-discolor', 'seed-size', 'shriveling', 'roots'\n",
    "] if feature in X_soy.columns]\n",
    "\n",
    "for i in range(len(categorical_features)):\n",
    "    for j in range(i+1, len(categorical_features)):\n",
    "        feature1 = categorical_features[i]\n",
    "        feature2 = categorical_features[j]\n",
    "        similarity = ochiai_similarity(set(X_soy[feature1]), set(X_soy[feature2]))\n",
    "        print(f\"Similarity between {feature1} and {feature2}: {similarity}\")"
   ]
  },
  {
   "cell_type": "code",
   "execution_count": 44,
   "id": "5913ba58",
   "metadata": {},
   "outputs": [
    {
     "data": {
      "image/png": "[encoded data removed]",
      "text/plain": [
       "<Figure size 640x480 with 1 Axes>"
      ]
     },
     "metadata": {},
     "output_type": "display_data"
    }
   ],
   "source": [
    "import networkx as nx\n",
    "import matplotlib.pyplot as plt\n",
    "\n",
    "# Create an empty graph\n",
    "G = nx.Graph()\n",
    "\n",
    "# Add nodes to the graph (each node represents a categorical feature)\n",
    "for feature in categorical_features:\n",
    "    G.add_node(feature)\n",
    "\n",
    "# Iterate over pairs of features and add edges with rounded weights based on similarity\n",
    "for i in range(len(categorical_features)):\n",
    "    for j in range(i+1, len(categorical_features)):\n",
    "        feature1 = categorical_features[i]\n",
    "        feature2 = categorical_features[j]\n",
    "        similarity = ochiai_similarity(set(X_soy[feature1]), set(X_soy[feature2]))\n",
    "        rounded_similarity = round(similarity, 2)  # Round similarity to 2 decimal points\n",
    "        G.add_edge(feature1, feature2, weight=rounded_similarity)\n",
    "\n",
    "# Set the layout for better spacing\n",
    "pos = nx.spring_layout(G, k=0.15, iterations=20)\n",
    "\n",
    "# Draw the graph with labels and weights\n",
    "nx.draw(G, pos, with_labels=True, node_size=1500, font_size=8, node_color='skyblue', edge_color='gray')\n",
    "edge_labels = nx.get_edge_attributes(G, 'weight')\n",
    "nx.draw_networkx_edge_labels(G, pos, edge_labels=edge_labels, font_size=8)\n",
    "\n",
    "plt.show()\n"
   ]
  },
  {
   "cell_type": "code",
   "execution_count": 45,
   "id": "5c3a1a53",
   "metadata": {},
   "outputs": [
    {
     "name": "stdout",
     "output_type": "stream",
     "text": [
      "Total number of dimensions (p) for NE: 72\n",
      "Estimated p for SE: 6\n",
      "Shape of SE embedding: (35, 6)\n",
      "Shape of NMF embedding: (35, 10)\n"
     ]
    }
   ],
   "source": [
    "# Initialize an empty similarity matrix\n",
    "similarity_matrix = np.zeros((len(categorical_features), len(categorical_features)))\n",
    "\n",
    "# Iterate over pairs of features and compute the similarity\n",
    "for i in range(len(categorical_features)):\n",
    "    for j in range(i+1, len(categorical_features)):\n",
    "        feature1 = categorical_features[i]\n",
    "        feature2 = categorical_features[j]\n",
    "        similarity = ochiai_similarity(set(X_soy[feature1]), set(X_soy[feature2]))\n",
    "        similarity_matrix[i, j] = similarity\n",
    "        similarity_matrix[j, i] = similarity  # Since the matrix is symmetric\n",
    "\n",
    "# Now, similarity_matrix contains the pairwise similarities between categorical features\n",
    "\n",
    "\n",
    "\n",
    "# Initialize p\n",
    "p = 0\n",
    "\n",
    "# Iterate over each categorical feature\n",
    "for feature in categorical_features:\n",
    "    # Get the set of unique categorical values for the current feature\n",
    "    unique_values = set(X_soy[feature])\n",
    "    # Add the length of the set to p\n",
    "    p += len(unique_values)\n",
    "\n",
    "print(\"Total number of dimensions (p) for NE:\", p)\n",
    "\n",
    "# Set p for SE (Spectral Embedding)\n",
    "num_samples = len(X_soy)  # Number of samples in your dataset\n",
    "p_se = int(num_samples ** 0.5)  # Adjust as needed based on the size of your graph\n",
    "print(\"Estimated p for SE:\", p_se)\n",
    "\n",
    "from sklearn.manifold import spectral_embedding\n",
    "embedding_se = spectral_embedding(similarity_matrix, n_components=p_se)\n",
    "\n",
    "from sklearn.decomposition import NMF\n",
    "nmf = NMF(n_components=10)\n",
    "embedding_nmf = nmf.fit_transform(similarity_matrix)\n",
    "\n",
    "print(\"Shape of SE embedding:\", embedding_se.shape)\n",
    "print(\"Shape of NMF embedding:\", embedding_nmf.shape)"
   ]
  },
  {
   "cell_type": "code",
   "execution_count": 46,
   "id": "7b9a4cb5",
   "metadata": {},
   "outputs": [],
   "source": [
    "def integration(embedding1, embedding2, operation):\n",
    "    \"\"\"\n",
    "    Integrate embeddings using the selected operation.\n",
    "    \n",
    "    Parameters:\n",
    "    embedding1 (np.array): Embedding matrix from method 1.\n",
    "    embedding2 (np.array): Embedding matrix from method 2.\n",
    "    operation (str): Integration operation ('joint' or 'mean').\n",
    "    \n",
    "    Returns:\n",
    "    np.array: Integrated embedding matrix.\n",
    "    \"\"\"\n",
    "    if operation == 'joint':\n",
    "        integrated_embedding = np.concatenate((embedding1, embedding2), axis=1)\n",
    "    elif operation == 'mean':\n",
    "        integrated_embedding = (embedding1 + embedding2) / 2\n",
    "    else:\n",
    "        raise ValueError(\"Invalid integration operation. Choose either 'joint' or 'mean'.\")\n",
    "    return integrated_embedding\n",
    "\n",
    "\n",
    "\n",
    "\n",
    "\n",
    "integrated_embedding_joint = np.concatenate((embedding_se, embedding_nmf), axis=1)\n",
    "\n",
    "padding = np.zeros((embedding_se.shape[0], embedding_nmf.shape[1] - embedding_se.shape[1]))\n",
    "embedding_se_padded = np.concatenate((embedding_se, padding), axis=1)\n",
    "\n",
    "\n",
    "integrated_embedding_mean = (embedding_se_padded + embedding_nmf) / 2\n"
   ]
  },
  {
   "cell_type": "code",
   "execution_count": 47,
   "id": "e4ce166f",
   "metadata": {},
   "outputs": [
    {
     "name": "stderr",
     "output_type": "stream",
     "text": [
      "C:\\Users\\Cait\\AppData\\Local\\Temp\\ipykernel_6936\\1772020198.py:5: UserWarning:\n",
      "\n",
      "No data for colormapping provided via 'c'. Parameters 'cmap' will be ignored\n",
      "\n"
     ]
    },
    {
     "data": {
      "image/png": "[encoded data removed]",
      "text/plain": [
       "<Figure size 800x600 with 2 Axes>"
      ]
     },
     "metadata": {},
     "output_type": "display_data"
    },
    {
     "name": "stderr",
     "output_type": "stream",
     "text": [
      "C:\\Users\\Cait\\AppData\\Local\\Temp\\ipykernel_6936\\1772020198.py:18: UserWarning:\n",
      "\n",
      "No data for colormapping provided via 'c'. Parameters 'cmap' will be ignored\n",
      "\n"
     ]
    },
    {
     "data": {
      "image/png": "[encoded data removed]",
      "text/plain": [
       "<Figure size 800x600 with 2 Axes>"
      ]
     },
     "metadata": {},
     "output_type": "display_data"
    }
   ],
   "source": [
    "import matplotlib.pyplot as plt\n",
    "\n",
    "# Plot the scatter plot for SE + Joint method\n",
    "plt.figure(figsize=(8, 6))\n",
    "plt.scatter(integrated_embedding_joint[:, 0], integrated_embedding_joint[:, 1], s=50, cmap='viridis')\n",
    "plt.title('Scatter Plot of Integrated Embedding (SE + Joint)')\n",
    "plt.xlabel('Dimension 1')\n",
    "plt.ylabel('Dimension 2')\n",
    "plt.grid(True)\n",
    "plt.colorbar(label='Cluster')\n",
    "plt.show()\n",
    "\n",
    "\n",
    "import matplotlib.pyplot as plt\n",
    "\n",
    "# Plot the scatter plot for SE + Joint method\n",
    "plt.figure(figsize=(8, 6))\n",
    "plt.scatter(embedding_nmf[:, 0], embedding_nmf[:, 1], s=50, cmap='viridis')\n",
    "plt.title('embedding_nmf')\n",
    "plt.xlabel('Dimension 1')\n",
    "plt.ylabel('Dimension 2')\n",
    "plt.grid(True)\n",
    "plt.colorbar(label='Cluster')\n",
    "plt.show()\n"
   ]
  },
  {
   "cell_type": "code",
   "execution_count": 48,
   "id": "2f8b0d25",
   "metadata": {},
   "outputs": [
    {
     "name": "stdout",
     "output_type": "stream",
     "text": [
      "KMeans\n",
      "ARI  0.5939753605769231\n",
      "NMI 0.7523749972116937\n",
      "FMI  0.7274342811405616\n"
     ]
    }
   ],
   "source": [
    "encoder = OneHotEncoder()\n",
    "X_soy_encoded = encoder.fit_transform(X_soy)\n",
    "\n",
    "# Apply K-Means clustering\n",
    "kmeans = KMeans(n_clusters=4)  # Adjust the number of clusters as needed\n",
    "clusters = kmeans.fit_predict(X_soy_encoded)\n",
    "y_series = y_soy.squeeze()\n",
    "print(\"KMeans\")\n",
    "true_labels = y_series\n",
    "\n",
    "ari = adjusted_rand_score(true_labels, clusters)\n",
    "print(\"ARI \",ari )\n",
    "\n",
    "nmi = normalized_mutual_info_score(true_labels, clusters)\n",
    "print(\"NMI\", nmi)\n",
    "\n",
    "fmi = fowlkes_mallows_score(true_labels, clusters)\n",
    "print(\"FMI \",fmi)\n",
    "\n"
   ]
  },
  {
   "cell_type": "code",
   "execution_count": null,
   "id": "92807024",
   "metadata": {},
   "outputs": [],
   "source": []
  },
  {
   "cell_type": "markdown",
   "id": "cabca7c5",
   "metadata": {},
   "source": [
    "Compare and contrast each performance index, what are the advantages and disadvantages of ARI, NMI, and FMI, and when to use each?\n",
    "\n",
    "$\\textbf{Adjusted Rand Index (ARI):}$<br>\n",
    "$\\space$ The corrected version of rand index, it measures the degree of overlapping between two partitions.<br>\n",
    "It is often used in cluster validation by computing similarity between discovered clusters and \"ground-truth\" communities. In contrast with other metrics that evaluate if points are clustered and separated well. 0 ARI means that points are assigned into cluisters randomly and 1 means two cluster results are same. It is also used to check if dimension-reduced similarity cluster results are similar to each other.\n",
    "\n",
    "$\\textbf{Advantages:}$<br>\n",
    "1. Users can check the similarity of their created clusters to how it was supposed to be clustered (process verification)<br>\n",
    "2. ARI in on a scale of -1 to 1, showing disagreement (-1), randomness (0), and agreement (1)<br>\n",
    "\n",
    "$\\textbf{Disadvantages:}$<br>\n",
    "1. The \"ground-truths\" or actual labels must be known to compute for ARI <br>\n",
    "2. Computations can be heavy for larger datasets as it takes into account each point in the clusters <br><br>\n",
    "\n",
    "$\\textbf{Normalized Mutual Information (NMI):}$<br>\n",
    "$\\space$ An information theoretic approach used to measure shared information between data distributions. It has a range of [0,1], 0 for no information shared and 1 for all the informatrion is shared - they are the same cluster. It is similar to ARI where you can compare ground-truths to check how your clustering method performed. It is also used in instances such as detecting changes in traffic over a period of time.\n",
    "\n",
    "$\\textbf{Advantages:}$<br>\n",
    "1. It's relation to information theory gives it a strong mathematical basis for similarity\n",
    "2. The range is normalized<br>\n",
    "\n",
    "$\\textbf{Disadvantages:}$<br>\n",
    "1. The \"ground-truths\" or actual labels must be known to compute for NMI\n",
    "2. Interpretation can vary depending on data and algorithms used<br><br>\n",
    "\n",
    "$\\textbf{Fowlkes-Mallows Index (FMI):}$<br>\n",
    "$\\space$Closely related to the Rand Index, it also deals with pairwise comparisons of data objects and is therefore used in clustering comparison. Its formula is the $\\sqrt{\\frac{|TP|}{|TP|+|FP|}*\\frac{|TP|}{|TP|+|FN|}}$ <br>\n",
    "\n",
    "$\\textbf{Advantages:}$<br>\n",
    "1. Because it considers true positives and true negatives, it gives quite a balanced assessment of cluster similarity\n",
    "2. It's formula is easier to understand<br>\n",
    "\n",
    "$\\textbf{Disadvantages:}$<br>\n",
    "1. It also depends on ground-truths\n",
    "2. It is not good for checking high-order relationships"
   ]
  },
  {
   "cell_type": "code",
   "execution_count": 49,
   "id": "445f2ae7",
   "metadata": {},
   "outputs": [
    {
     "name": "stdout",
     "output_type": "stream",
     "text": [
      "FMI (KModes): 1.0\n",
      "ARI (KModes): 1.0\n",
      "NMI (KModes): 0.9999999999999999\n"
     ]
    }
   ],
   "source": [
    "from kmodes.kmodes import KModes\n",
    "\n",
    "# Perform KModes clustering\n",
    "km = KModes(n_clusters=4)  \n",
    "clusters_km = km.fit_predict(X_soy)\n",
    "y_series = y_soy.squeeze()\n",
    "# Compute FMI\n",
    "fmi_km = fowlkes_mallows_score(y_series, clusters_km)\n",
    "print(\"FMI (KModes):\", fmi_km)\n",
    "\n",
    "# Compute ARI\n",
    "ari_km = adjusted_rand_score(y_series, clusters_km)\n",
    "print(\"ARI (KModes):\", ari_km)\n",
    "\n",
    "# Compute NMI\n",
    "nmi_km = normalized_mutual_info_score(y_series, clusters_km)\n",
    "print(\"NMI (KModes):\", nmi_km)\n"
   ]
  },
  {
   "cell_type": "code",
   "execution_count": 50,
   "id": "6ce8ce06",
   "metadata": {},
   "outputs": [
    {
     "name": "stdout",
     "output_type": "stream",
     "text": [
      "FMI (Hierarchical Clustering): 1.0\n",
      "ARI (Hierarchical Clustering): 1.0\n",
      "NMI (Hierarchical Clustering): 0.9999999999999999\n"
     ]
    }
   ],
   "source": [
    "from sklearn.cluster import AgglomerativeClustering\n",
    "\n",
    "agg_clustering = AgglomerativeClustering(n_clusters=4)  # Adjust the number of clusters as needed\n",
    "clusters_agg = agg_clustering.fit_predict(X_soy)\n",
    "y_series = y_soy.squeeze()\n",
    "\n",
    "fmi_agg = fowlkes_mallows_score(y_series, clusters_agg)\n",
    "print(\"FMI (Hierarchical Clustering):\", fmi_agg)\n",
    "\n",
    "\n",
    "ari_agg = adjusted_rand_score(y_series, clusters_agg)\n",
    "print(\"ARI (Hierarchical Clustering):\", ari_agg)\n",
    "\n",
    "nmi_agg = normalized_mutual_info_score(y_series, clusters_agg)\n",
    "print(\"NMI (Hierarchical Clustering):\", nmi_agg)\n"
   ]
  },
  {
   "cell_type": "markdown",
   "id": "85dbb271",
   "metadata": {},
   "source": [
    "Write your report using Latex. Your report should be focused on the \"why's and the what's\" of each performance metrices (i.e. why is FMI always greater than ARI and NMI? What's the problem with ARI and NMI?)."
   ]
  },
  {
   "cell_type": "markdown",
   "id": "4dfa59b7",
   "metadata": {},
   "source": [
    "$\\textbf{Report:}$<br>\n",
    "\n",
    "While the three used \"ground-truths\" to compare clusters, the formulas and process they use are different. FMI measures similarity of two clusters through computing the geometric mean of precision and recall. On the other hand, ARI compares all pairs of samples and counting pairs that are assigned to the same or different clusters in the true and predicted clusterings. Lastly, NMI matches mutual information between the true and predicted clusters. ARI and NMI can be sensitive to certain paramets like cluster sizes and cluster numbers. On the other hand, FMI makes very strong hypotheses regarding cluster independence and fixed cluster sizes which are generally voilated when comparing results of clustering algorithms.  \n",
    "\n",
    "FMI is more sensitive to specific clustering patterns, and rely on how the algorithm attempts to classify unlabeled data. Thus, it can capture structures more easily and possibly emphasize agreement more. In addition, through using precision and recall as its basis, consistent true negatives and false positives can lead to higher values. On the other hand, AMI and NMI are more sensitive to class imbalances. They  become heavy with larger datasets, with the original Rand Index having the problem of converging to 1 as the data increases. "
   ]
  },
  {
   "cell_type": "code",
   "execution_count": null,
   "id": "663b4d67",
   "metadata": {},
   "outputs": [],
   "source": []
  },
  {
   "cell_type": "code",
   "execution_count": null,
   "id": "18b7f0f8",
   "metadata": {},
   "outputs": [],
   "source": []
  },
  {
   "cell_type": "code",
   "execution_count": 79,
   "id": "7e25269c",
   "metadata": {},
   "outputs": [
    {
     "name": "stderr",
     "output_type": "stream",
     "text": [
      "C:\\Users\\Cait\\anaconda3\\Lib\\site-packages\\sklearn\\cluster\\_kmeans.py:1446: UserWarning:\n",
      "\n",
      "KMeans is known to have a memory leak on Windows with MKL, when there are less chunks than available threads. You can avoid it by setting the environment variable OMP_NUM_THREADS=1.\n",
      "\n",
      "C:\\Users\\Cait\\anaconda3\\Lib\\site-packages\\sklearn\\cluster\\_kmeans.py:1446: UserWarning:\n",
      "\n",
      "KMeans is known to have a memory leak on Windows with MKL, when there are less chunks than available threads. You can avoid it by setting the environment variable OMP_NUM_THREADS=1.\n",
      "\n",
      "C:\\Users\\Cait\\anaconda3\\Lib\\site-packages\\sklearn\\cluster\\_kmeans.py:1446: UserWarning:\n",
      "\n",
      "KMeans is known to have a memory leak on Windows with MKL, when there are less chunks than available threads. You can avoid it by setting the environment variable OMP_NUM_THREADS=2.\n",
      "\n",
      "C:\\Users\\Cait\\anaconda3\\Lib\\site-packages\\sklearn\\cluster\\_kmeans.py:1446: UserWarning:\n",
      "\n",
      "KMeans is known to have a memory leak on Windows with MKL, when there are less chunks than available threads. You can avoid it by setting the environment variable OMP_NUM_THREADS=2.\n",
      "\n",
      "C:\\Users\\Cait\\anaconda3\\Lib\\site-packages\\sklearn\\cluster\\_kmeans.py:1446: UserWarning:\n",
      "\n",
      "KMeans is known to have a memory leak on Windows with MKL, when there are less chunks than available threads. You can avoid it by setting the environment variable OMP_NUM_THREADS=2.\n",
      "\n",
      "C:\\Users\\Cait\\anaconda3\\Lib\\site-packages\\sklearn\\cluster\\_kmeans.py:1446: UserWarning:\n",
      "\n",
      "KMeans is known to have a memory leak on Windows with MKL, when there are less chunks than available threads. You can avoid it by setting the environment variable OMP_NUM_THREADS=1.\n",
      "\n"
     ]
    }
   ],
   "source": [
    "'''from sklearn.cluster import KMeans\n",
    "\n",
    "# K-means clustering for the soybean dataset\n",
    "kmeans_soy = KMeans(n_clusters=4)\n",
    "kmeans_soy.fit(X_soy)\n",
    "cluster_labels_soy = kmeans_soy.labels_\n",
    "\n",
    "# K-means clustering for the zoo dataset\n",
    "kmeans_zoo = KMeans(n_clusters=7)\n",
    "kmeans_zoo.fit(X_zoo)\n",
    "cluster_labels_zoo = kmeans_zoo.labels_\n",
    "\n",
    "# K-means clustering for the heart disease dataset\n",
    "kmeans_heart = KMeans(n_clusters=2)\n",
    "kmeans_heart.fit(X_heart_imputed)\n",
    "cluster_labels_heart = kmeans_heart.labels_\n",
    "\n",
    "#Breast cancer\n",
    "kmeans_breast = KMeans(n_clusters = 2)\n",
    "kmeans_breast.fit(X_breast_imputed)\n",
    "cluster_labels_breast = kmeans_breast.labels_\n",
    "\n",
    "#Derma\n",
    "kmeans_derma = KMeans(n_clusters = 6)\n",
    "kmeans_derma.fit(X_derma_imputed)\n",
    "cluster_labels_derma = kmeans_derma.labels_\n",
    "\n",
    "#Mushroom - errors due to string - ordinal encoding first\n",
    "encoder = OrdinalEncoder()\n",
    "X_mush_ordi = encoder.fit_transform(X_mush_cleaned)\n",
    "X_mush_ordinal = pd.DataFrame(X_mush_ordi, columns=X_mush_cleaned.columns)\n",
    "\n",
    "kmeans_mush = KMeans(n_clusters=2)\n",
    "kmeans_mush.fit(X_mush_ordinal)\n",
    "cluster_labels_mush = kmeans_mush.labels_\n",
    "\n",
    "#Iris - numerical\n",
    "kmeans_iris = KMeans(n_clusters=3)\n",
    "kmeans_iris.fit(X_iris)\n",
    "cluster_labels_iris = kmeans_iris.labels_\n",
    "\n",
    "'''"
   ]
  },
  {
   "cell_type": "code",
   "execution_count": null,
   "id": "4cbdeb4a",
   "metadata": {},
   "outputs": [],
   "source": [
    "\n"
   ]
  },
  {
   "cell_type": "code",
   "execution_count": 15,
   "id": "fbd6ad2e",
   "metadata": {},
   "outputs": [
    {
     "name": "stdout",
     "output_type": "stream",
     "text": [
      "Ochiai coefficients: [0.7559289460184544, 0.7071067811865475, 0.7071067811865475, 0.8164965809277261, 0.7071067811865475, 0.8660254037844387, 0.5345224838248488, 0.5345224838248488, 0.9258200997725514, 0.5345224838248488, 0.6546536707079772, 1.0, 0.5773502691896258, 1.0, 0.8164965809277261, 0.5773502691896258, 1.0, 0.8164965809277261, 0.5773502691896258, 0.7071067811865476, 0.8164965809277261]\n"
     ]
    }
   ],
   "source": [
    "'''from itertools import combinations\n",
    "\n",
    "# Function to calculate the Ochiai coefficient\n",
    "def ochiai_coefficient(set_A, set_B):\n",
    "    intersection = len(set_A.intersection(set_B))\n",
    "    denominator = (len(set_A) * len(set_B)) ** 0.5  # Square root of the product of the sizes of sets A and B\n",
    "    if denominator == 0:\n",
    "        return 0  # Avoid division by zero\n",
    "    return intersection / denominator\n",
    "\n",
    "# List to store Ochiai coefficients for each pair of clusters\n",
    "ochiai_coefficients = []\n",
    "\n",
    "# Iterate over pairs of clusters\n",
    "for cluster1, cluster2 in combinations([cluster_labels_soy, cluster_labels_zoo, cluster_labels_heart, cluster_labels_breast, cluster_labels_derma, cluster_labels_mush, cluster_labels_iris], 2):\n",
    "    set_A = set(cluster1)\n",
    "    set_B = set(cluster2)\n",
    "    ochiai = ochiai_coefficient(set_A, set_B)\n",
    "    ochiai_coefficients.append(ochiai)\n",
    "\n",
    "# Print Ochiai coefficients\n",
    "print(\"Ochiai coefficients:\", ochiai_coefficients)'''\n"
   ]
  },
  {
   "cell_type": "code",
   "execution_count": 21,
   "id": "00f61a38",
   "metadata": {},
   "outputs": [
    {
     "data": {
      "text/plain": [
       "\"ordinal_encoder = OrdinalEncoder()\\nX_soy_encoded = ordinal_encoder.fit_transform(X_soy)\\n\\n# One-Hot Encoding\\nonehot_encoder = OneHotEncoder()\\nX_soy_onehot = onehot_encoder.fit_transform(X_soy_encoded)\\n\\n# Convert one-hot encoded data to dense array\\nX_soy_onehot_dense = X_soy_onehot.toarray()\\n\\nimport plotly.express as px\\n\\n# Scatter plot using ordinal encoded data\\nfig_ordinal = px.scatter(x=X_soy_encoded[:, 3], y=X_soy_encoded[:, 2], title='Ordinal Encoded Data: Soybean')\\nfig_ordinal.update_layout(xaxis_title='Temperature', yaxis_title='Precipitation')\\nfig_ordinal.show()\\n\\n# Scatter plot using one-hot encoded data\\n# Scatter plot using one-hot encoded data\\nfig_onehot = px.scatter(data_frame=X_soy_onehot, x=3, y=2, title='One-Hot Encoded Data: Soybean')\\nfig_onehot.update_layout(xaxis_title='Temperature', yaxis_title='Precipitation')\\nfig_onehot.show()\\n\""
      ]
     },
     "execution_count": 21,
     "metadata": {},
     "output_type": "execute_result"
    }
   ],
   "source": [
    "'''ordinal_encoder = OrdinalEncoder()\n",
    "X_soy_encoded = ordinal_encoder.fit_transform(X_soy)\n",
    "\n",
    "# One-Hot Encoding\n",
    "onehot_encoder = OneHotEncoder()\n",
    "X_soy_onehot = onehot_encoder.fit_transform(X_soy_encoded)\n",
    "\n",
    "# Convert one-hot encoded data to dense array\n",
    "X_soy_onehot_dense = X_soy_onehot.toarray()\n",
    "\n",
    "import plotly.express as px\n",
    "\n",
    "# Scatter plot using ordinal encoded data\n",
    "fig_ordinal = px.scatter(x=X_soy_encoded[:, 3], y=X_soy_encoded[:, 2], title='Ordinal Encoded Data: Soybean')\n",
    "fig_ordinal.update_layout(xaxis_title='Temperature', yaxis_title='Precipitation')\n",
    "fig_ordinal.show()\n",
    "\n",
    "# Scatter plot using one-hot encoded data\n",
    "# Scatter plot using one-hot encoded data\n",
    "fig_onehot = px.scatter(data_frame=X_soy_onehot, x=3, y=2, title='One-Hot Encoded Data: Soybean')\n",
    "fig_onehot.update_layout(xaxis_title='Temperature', yaxis_title='Precipitation')\n",
    "fig_onehot.show()\n",
    "'''\n"
   ]
  },
  {
   "cell_type": "code",
   "execution_count": 20,
   "id": "bc4965cd",
   "metadata": {},
   "outputs": [
    {
     "data": {
      "text/plain": [
       "'print(X_soy.shape)\\nprint(X_soy.dtypes)\\nprint(X_soy.isnull().sum())\\nprint(\"Shape of the Ordinal data:\", X_soy_encoded.shape)\\nprint(\"Shape of the One-Hot Encoded data:\", X_soy_onehot.shape)'"
      ]
     },
     "execution_count": 20,
     "metadata": {},
     "output_type": "execute_result"
    }
   ],
   "source": [
    "'''print(X_soy.shape)\n",
    "print(X_soy.dtypes)\n",
    "print(X_soy.isnull().sum())\n",
    "print(\"Shape of the Ordinal data:\", X_soy_encoded.shape)\n",
    "print(\"Shape of the One-Hot Encoded data:\", X_soy_onehot.shape)'''\n"
   ]
  },
  {
   "cell_type": "code",
   "execution_count": null,
   "id": "b17e47d3",
   "metadata": {},
   "outputs": [],
   "source": []
  }
 ],
 "metadata": {
  "kernelspec": {
   "display_name": "Python 3 (ipykernel)",
   "language": "python",
   "name": "python3"
  },
  "language_info": {
   "codemirror_mode": {
    "name": "ipython",
    "version": 3
   },
   "file_extension": ".py",
   "mimetype": "text/x-python",
   "name": "python",
   "nbconvert_exporter": "python",
   "pygments_lexer": "ipython3",
   "version": "3.11.9"
  }
 },
 "nbformat": 4,
 "nbformat_minor": 5
}
